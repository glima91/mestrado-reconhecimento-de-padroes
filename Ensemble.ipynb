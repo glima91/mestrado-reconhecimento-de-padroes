{
  "nbformat": 4,
  "nbformat_minor": 0,
  "metadata": {
    "colab": {
      "name": "Ensemble.ipynb",
      "provenance": [],
      "collapsed_sections": [],
      "authorship_tag": "ABX9TyMDe5GrOQwOvv3jwDMA7enL",
      "include_colab_link": true
    },
    "kernelspec": {
      "name": "python3",
      "display_name": "Python 3"
    },
    "language_info": {
      "name": "python"
    }
  },
  "cells": [
    {
      "cell_type": "markdown",
      "metadata": {
        "id": "view-in-github",
        "colab_type": "text"
      },
      "source": [
        "<a href=\"https://colab.research.google.com/github/glima91/mestrado-reconhecimento-de-padroes/blob/main/Ensemble.ipynb\" target=\"_parent\"><img src=\"https://colab.research.google.com/assets/colab-badge.svg\" alt=\"Open In Colab\"/></a>"
      ]
    },
    {
      "cell_type": "markdown",
      "metadata": {
        "id": "2dPWL64QYZOH"
      },
      "source": [
        "# Classificação Utilizando Ensemble"
      ]
    },
    {
      "cell_type": "markdown",
      "metadata": {
        "id": "JB_b-q2NXvWQ"
      },
      "source": [
        "## Dataset: Telco Customer Churn\n",
        "\n",
        "Context\n",
        "\"Predict behavior to retain customers. You can analyze all relevant customer data and develop focused customer retention programs.\" [IBM Sample Data Sets]\n",
        "\n",
        "Content\n",
        "Each row represents a customer, each column contains customer’s attributes described on the column Metadata.\n",
        "\n",
        "The data set includes information about:\n",
        "\n",
        "Customers who left within the last month – the column is called Churn\n",
        "Services that each customer has signed up for – phone, multiple lines, internet, online security, online backup, device protection, tech support, and streaming TV and movies\n",
        "Customer account information – how long they’ve been a customer, contract, payment method, paperless billing, monthly charges, and total charges\n",
        "Demographic info about customers – gender, age range, and if they have partners and dependents\n",
        "Inspiration\n",
        "To explore this type of models and learn more about the subject.\n",
        "\n",
        "New version from IBM:\n",
        "https://community.ibm.com/community/user/businessanalytics/blogs/steven-macko/2019/07/11/telco-customer-churn-1113\n",
        "\n",
        "https://www.kaggle.com/blastchar/telco-customer-churn"
      ]
    },
    {
      "cell_type": "markdown",
      "metadata": {
        "id": "2nHxOgpvbID5"
      },
      "source": [
        "## Obtendo Dados do Dataset"
      ]
    },
    {
      "cell_type": "code",
      "metadata": {
        "id": "iZlQjONvb-2e"
      },
      "source": [
        "import pandas as pd\n",
        "\n",
        "from sklearn.model_selection import train_test_split"
      ],
      "execution_count": 27,
      "outputs": []
    },
    {
      "cell_type": "code",
      "metadata": {
        "colab": {
          "base_uri": "https://localhost:8080/",
          "height": 313
        },
        "id": "q8vchT83blq9",
        "outputId": "027cd69a-6791-417d-bf8a-78b66466ede0"
      },
      "source": [
        "data = pd.read_csv(\"/content/sample_data/Telco-Churn.csv\")\n",
        "data.head()"
      ],
      "execution_count": 84,
      "outputs": [
        {
          "output_type": "execute_result",
          "data": {
            "text/html": [
              "<div>\n",
              "<style scoped>\n",
              "    .dataframe tbody tr th:only-of-type {\n",
              "        vertical-align: middle;\n",
              "    }\n",
              "\n",
              "    .dataframe tbody tr th {\n",
              "        vertical-align: top;\n",
              "    }\n",
              "\n",
              "    .dataframe thead th {\n",
              "        text-align: right;\n",
              "    }\n",
              "</style>\n",
              "<table border=\"1\" class=\"dataframe\">\n",
              "  <thead>\n",
              "    <tr style=\"text-align: right;\">\n",
              "      <th></th>\n",
              "      <th>customerID</th>\n",
              "      <th>gender</th>\n",
              "      <th>SeniorCitizen</th>\n",
              "      <th>Partner</th>\n",
              "      <th>Dependents</th>\n",
              "      <th>tenure</th>\n",
              "      <th>PhoneService</th>\n",
              "      <th>MultipleLines</th>\n",
              "      <th>InternetService</th>\n",
              "      <th>OnlineSecurity</th>\n",
              "      <th>OnlineBackup</th>\n",
              "      <th>DeviceProtection</th>\n",
              "      <th>TechSupport</th>\n",
              "      <th>StreamingTV</th>\n",
              "      <th>StreamingMovies</th>\n",
              "      <th>Contract</th>\n",
              "      <th>PaperlessBilling</th>\n",
              "      <th>PaymentMethod</th>\n",
              "      <th>MonthlyCharges</th>\n",
              "      <th>TotalCharges</th>\n",
              "      <th>Churn</th>\n",
              "    </tr>\n",
              "  </thead>\n",
              "  <tbody>\n",
              "    <tr>\n",
              "      <th>0</th>\n",
              "      <td>7590-VHVEG</td>\n",
              "      <td>Female</td>\n",
              "      <td>0</td>\n",
              "      <td>Yes</td>\n",
              "      <td>No</td>\n",
              "      <td>1</td>\n",
              "      <td>No</td>\n",
              "      <td>No phone service</td>\n",
              "      <td>DSL</td>\n",
              "      <td>No</td>\n",
              "      <td>Yes</td>\n",
              "      <td>No</td>\n",
              "      <td>No</td>\n",
              "      <td>No</td>\n",
              "      <td>No</td>\n",
              "      <td>Month-to-month</td>\n",
              "      <td>Yes</td>\n",
              "      <td>Electronic check</td>\n",
              "      <td>29.85</td>\n",
              "      <td>29.85</td>\n",
              "      <td>No</td>\n",
              "    </tr>\n",
              "    <tr>\n",
              "      <th>1</th>\n",
              "      <td>5575-GNVDE</td>\n",
              "      <td>Male</td>\n",
              "      <td>0</td>\n",
              "      <td>No</td>\n",
              "      <td>No</td>\n",
              "      <td>34</td>\n",
              "      <td>Yes</td>\n",
              "      <td>No</td>\n",
              "      <td>DSL</td>\n",
              "      <td>Yes</td>\n",
              "      <td>No</td>\n",
              "      <td>Yes</td>\n",
              "      <td>No</td>\n",
              "      <td>No</td>\n",
              "      <td>No</td>\n",
              "      <td>One year</td>\n",
              "      <td>No</td>\n",
              "      <td>Mailed check</td>\n",
              "      <td>56.95</td>\n",
              "      <td>1889.5</td>\n",
              "      <td>No</td>\n",
              "    </tr>\n",
              "    <tr>\n",
              "      <th>2</th>\n",
              "      <td>3668-QPYBK</td>\n",
              "      <td>Male</td>\n",
              "      <td>0</td>\n",
              "      <td>No</td>\n",
              "      <td>No</td>\n",
              "      <td>2</td>\n",
              "      <td>Yes</td>\n",
              "      <td>No</td>\n",
              "      <td>DSL</td>\n",
              "      <td>Yes</td>\n",
              "      <td>Yes</td>\n",
              "      <td>No</td>\n",
              "      <td>No</td>\n",
              "      <td>No</td>\n",
              "      <td>No</td>\n",
              "      <td>Month-to-month</td>\n",
              "      <td>Yes</td>\n",
              "      <td>Mailed check</td>\n",
              "      <td>53.85</td>\n",
              "      <td>108.15</td>\n",
              "      <td>Yes</td>\n",
              "    </tr>\n",
              "    <tr>\n",
              "      <th>3</th>\n",
              "      <td>7795-CFOCW</td>\n",
              "      <td>Male</td>\n",
              "      <td>0</td>\n",
              "      <td>No</td>\n",
              "      <td>No</td>\n",
              "      <td>45</td>\n",
              "      <td>No</td>\n",
              "      <td>No phone service</td>\n",
              "      <td>DSL</td>\n",
              "      <td>Yes</td>\n",
              "      <td>No</td>\n",
              "      <td>Yes</td>\n",
              "      <td>Yes</td>\n",
              "      <td>No</td>\n",
              "      <td>No</td>\n",
              "      <td>One year</td>\n",
              "      <td>No</td>\n",
              "      <td>Bank transfer (automatic)</td>\n",
              "      <td>42.30</td>\n",
              "      <td>1840.75</td>\n",
              "      <td>No</td>\n",
              "    </tr>\n",
              "    <tr>\n",
              "      <th>4</th>\n",
              "      <td>9237-HQITU</td>\n",
              "      <td>Female</td>\n",
              "      <td>0</td>\n",
              "      <td>No</td>\n",
              "      <td>No</td>\n",
              "      <td>2</td>\n",
              "      <td>Yes</td>\n",
              "      <td>No</td>\n",
              "      <td>Fiber optic</td>\n",
              "      <td>No</td>\n",
              "      <td>No</td>\n",
              "      <td>No</td>\n",
              "      <td>No</td>\n",
              "      <td>No</td>\n",
              "      <td>No</td>\n",
              "      <td>Month-to-month</td>\n",
              "      <td>Yes</td>\n",
              "      <td>Electronic check</td>\n",
              "      <td>70.70</td>\n",
              "      <td>151.65</td>\n",
              "      <td>Yes</td>\n",
              "    </tr>\n",
              "  </tbody>\n",
              "</table>\n",
              "</div>"
            ],
            "text/plain": [
              "   customerID  gender  SeniorCitizen  ... MonthlyCharges TotalCharges  Churn\n",
              "0  7590-VHVEG  Female              0  ...          29.85        29.85     No\n",
              "1  5575-GNVDE    Male              0  ...          56.95       1889.5     No\n",
              "2  3668-QPYBK    Male              0  ...          53.85       108.15    Yes\n",
              "3  7795-CFOCW    Male              0  ...          42.30      1840.75     No\n",
              "4  9237-HQITU  Female              0  ...          70.70       151.65    Yes\n",
              "\n",
              "[5 rows x 21 columns]"
            ]
          },
          "metadata": {},
          "execution_count": 84
        }
      ]
    },
    {
      "cell_type": "code",
      "metadata": {
        "colab": {
          "base_uri": "https://localhost:8080/",
          "height": 313
        },
        "id": "5IFFmoAxTiOq",
        "outputId": "9f3ca0ea-acca-4203-c8f3-5d84f4916bc6"
      },
      "source": [
        "data = data.replace({'Yes': 1, 'No': 0, \"No internet service\": 0})\n",
        "data.head()"
      ],
      "execution_count": 85,
      "outputs": [
        {
          "output_type": "execute_result",
          "data": {
            "text/html": [
              "<div>\n",
              "<style scoped>\n",
              "    .dataframe tbody tr th:only-of-type {\n",
              "        vertical-align: middle;\n",
              "    }\n",
              "\n",
              "    .dataframe tbody tr th {\n",
              "        vertical-align: top;\n",
              "    }\n",
              "\n",
              "    .dataframe thead th {\n",
              "        text-align: right;\n",
              "    }\n",
              "</style>\n",
              "<table border=\"1\" class=\"dataframe\">\n",
              "  <thead>\n",
              "    <tr style=\"text-align: right;\">\n",
              "      <th></th>\n",
              "      <th>customerID</th>\n",
              "      <th>gender</th>\n",
              "      <th>SeniorCitizen</th>\n",
              "      <th>Partner</th>\n",
              "      <th>Dependents</th>\n",
              "      <th>tenure</th>\n",
              "      <th>PhoneService</th>\n",
              "      <th>MultipleLines</th>\n",
              "      <th>InternetService</th>\n",
              "      <th>OnlineSecurity</th>\n",
              "      <th>OnlineBackup</th>\n",
              "      <th>DeviceProtection</th>\n",
              "      <th>TechSupport</th>\n",
              "      <th>StreamingTV</th>\n",
              "      <th>StreamingMovies</th>\n",
              "      <th>Contract</th>\n",
              "      <th>PaperlessBilling</th>\n",
              "      <th>PaymentMethod</th>\n",
              "      <th>MonthlyCharges</th>\n",
              "      <th>TotalCharges</th>\n",
              "      <th>Churn</th>\n",
              "    </tr>\n",
              "  </thead>\n",
              "  <tbody>\n",
              "    <tr>\n",
              "      <th>0</th>\n",
              "      <td>7590-VHVEG</td>\n",
              "      <td>Female</td>\n",
              "      <td>0</td>\n",
              "      <td>1</td>\n",
              "      <td>0</td>\n",
              "      <td>1</td>\n",
              "      <td>0</td>\n",
              "      <td>No phone service</td>\n",
              "      <td>DSL</td>\n",
              "      <td>0</td>\n",
              "      <td>1</td>\n",
              "      <td>0</td>\n",
              "      <td>0</td>\n",
              "      <td>0</td>\n",
              "      <td>0</td>\n",
              "      <td>Month-to-month</td>\n",
              "      <td>1</td>\n",
              "      <td>Electronic check</td>\n",
              "      <td>29.85</td>\n",
              "      <td>29.85</td>\n",
              "      <td>0</td>\n",
              "    </tr>\n",
              "    <tr>\n",
              "      <th>1</th>\n",
              "      <td>5575-GNVDE</td>\n",
              "      <td>Male</td>\n",
              "      <td>0</td>\n",
              "      <td>0</td>\n",
              "      <td>0</td>\n",
              "      <td>34</td>\n",
              "      <td>1</td>\n",
              "      <td>0</td>\n",
              "      <td>DSL</td>\n",
              "      <td>1</td>\n",
              "      <td>0</td>\n",
              "      <td>1</td>\n",
              "      <td>0</td>\n",
              "      <td>0</td>\n",
              "      <td>0</td>\n",
              "      <td>One year</td>\n",
              "      <td>0</td>\n",
              "      <td>Mailed check</td>\n",
              "      <td>56.95</td>\n",
              "      <td>1889.5</td>\n",
              "      <td>0</td>\n",
              "    </tr>\n",
              "    <tr>\n",
              "      <th>2</th>\n",
              "      <td>3668-QPYBK</td>\n",
              "      <td>Male</td>\n",
              "      <td>0</td>\n",
              "      <td>0</td>\n",
              "      <td>0</td>\n",
              "      <td>2</td>\n",
              "      <td>1</td>\n",
              "      <td>0</td>\n",
              "      <td>DSL</td>\n",
              "      <td>1</td>\n",
              "      <td>1</td>\n",
              "      <td>0</td>\n",
              "      <td>0</td>\n",
              "      <td>0</td>\n",
              "      <td>0</td>\n",
              "      <td>Month-to-month</td>\n",
              "      <td>1</td>\n",
              "      <td>Mailed check</td>\n",
              "      <td>53.85</td>\n",
              "      <td>108.15</td>\n",
              "      <td>1</td>\n",
              "    </tr>\n",
              "    <tr>\n",
              "      <th>3</th>\n",
              "      <td>7795-CFOCW</td>\n",
              "      <td>Male</td>\n",
              "      <td>0</td>\n",
              "      <td>0</td>\n",
              "      <td>0</td>\n",
              "      <td>45</td>\n",
              "      <td>0</td>\n",
              "      <td>No phone service</td>\n",
              "      <td>DSL</td>\n",
              "      <td>1</td>\n",
              "      <td>0</td>\n",
              "      <td>1</td>\n",
              "      <td>1</td>\n",
              "      <td>0</td>\n",
              "      <td>0</td>\n",
              "      <td>One year</td>\n",
              "      <td>0</td>\n",
              "      <td>Bank transfer (automatic)</td>\n",
              "      <td>42.30</td>\n",
              "      <td>1840.75</td>\n",
              "      <td>0</td>\n",
              "    </tr>\n",
              "    <tr>\n",
              "      <th>4</th>\n",
              "      <td>9237-HQITU</td>\n",
              "      <td>Female</td>\n",
              "      <td>0</td>\n",
              "      <td>0</td>\n",
              "      <td>0</td>\n",
              "      <td>2</td>\n",
              "      <td>1</td>\n",
              "      <td>0</td>\n",
              "      <td>Fiber optic</td>\n",
              "      <td>0</td>\n",
              "      <td>0</td>\n",
              "      <td>0</td>\n",
              "      <td>0</td>\n",
              "      <td>0</td>\n",
              "      <td>0</td>\n",
              "      <td>Month-to-month</td>\n",
              "      <td>1</td>\n",
              "      <td>Electronic check</td>\n",
              "      <td>70.70</td>\n",
              "      <td>151.65</td>\n",
              "      <td>1</td>\n",
              "    </tr>\n",
              "  </tbody>\n",
              "</table>\n",
              "</div>"
            ],
            "text/plain": [
              "   customerID  gender  SeniorCitizen  ...  MonthlyCharges  TotalCharges  Churn\n",
              "0  7590-VHVEG  Female              0  ...           29.85         29.85      0\n",
              "1  5575-GNVDE    Male              0  ...           56.95        1889.5      0\n",
              "2  3668-QPYBK    Male              0  ...           53.85        108.15      1\n",
              "3  7795-CFOCW    Male              0  ...           42.30       1840.75      0\n",
              "4  9237-HQITU  Female              0  ...           70.70        151.65      1\n",
              "\n",
              "[5 rows x 21 columns]"
            ]
          },
          "metadata": {},
          "execution_count": 85
        }
      ]
    },
    {
      "cell_type": "code",
      "metadata": {
        "colab": {
          "base_uri": "https://localhost:8080/"
        },
        "id": "593jYeTTb82b",
        "outputId": "11a67b63-100b-431a-9071-3e4a53788ab3"
      },
      "source": [
        "data.info()"
      ],
      "execution_count": 86,
      "outputs": [
        {
          "output_type": "stream",
          "name": "stdout",
          "text": [
            "<class 'pandas.core.frame.DataFrame'>\n",
            "RangeIndex: 7043 entries, 0 to 7042\n",
            "Data columns (total 21 columns):\n",
            " #   Column            Non-Null Count  Dtype  \n",
            "---  ------            --------------  -----  \n",
            " 0   customerID        7043 non-null   object \n",
            " 1   gender            7043 non-null   object \n",
            " 2   SeniorCitizen     7043 non-null   int64  \n",
            " 3   Partner           7043 non-null   int64  \n",
            " 4   Dependents        7043 non-null   int64  \n",
            " 5   tenure            7043 non-null   int64  \n",
            " 6   PhoneService      7043 non-null   int64  \n",
            " 7   MultipleLines     7043 non-null   object \n",
            " 8   InternetService   7043 non-null   object \n",
            " 9   OnlineSecurity    7043 non-null   int64  \n",
            " 10  OnlineBackup      7043 non-null   int64  \n",
            " 11  DeviceProtection  7043 non-null   int64  \n",
            " 12  TechSupport       7043 non-null   int64  \n",
            " 13  StreamingTV       7043 non-null   int64  \n",
            " 14  StreamingMovies   7043 non-null   int64  \n",
            " 15  Contract          7043 non-null   object \n",
            " 16  PaperlessBilling  7043 non-null   int64  \n",
            " 17  PaymentMethod     7043 non-null   object \n",
            " 18  MonthlyCharges    7043 non-null   float64\n",
            " 19  TotalCharges      7043 non-null   object \n",
            " 20  Churn             7043 non-null   int64  \n",
            "dtypes: float64(1), int64(13), object(7)\n",
            "memory usage: 1.1+ MB\n"
          ]
        }
      ]
    },
    {
      "cell_type": "code",
      "metadata": {
        "id": "XXhCRw0Mp8qa"
      },
      "source": [
        "def preprocessamento(x):\n",
        "    colunasParaRemover = [\"customerID\", \"OnlineSecurity\", \"MultipleLines\", \"InternetService\", \"gender\", \"Contract\", \"PaymentMethod\", \"TotalCharges\",\"Churn\"]\n",
        "   \n",
        "    onehot = pd.get_dummies(x[\"gender\"], prefix='gender',prefix_sep='_')\n",
        "    x = pd.concat([x, onehot],axis=1)\n",
        "\n",
        "    onehot = pd.get_dummies(x[\"Contract\"], prefix='Contract',prefix_sep='_')\n",
        "    x = pd.concat([x, onehot],axis=1)\n",
        "\n",
        "    onehot = pd.get_dummies(x[\"PaymentMethod\"], prefix='PaymentMethod',prefix_sep='_')\n",
        "    x = pd.concat([x, onehot],axis=1)\n",
        "\n",
        "    y = x[\"Churn\"]\n",
        "\n",
        "    x = x.drop(colunasParaRemover, axis=1)\n",
        "    return x, y"
      ],
      "execution_count": 115,
      "outputs": []
    },
    {
      "cell_type": "code",
      "metadata": {
        "colab": {
          "base_uri": "https://localhost:8080/"
        },
        "id": "ORcZMtK6Yljh",
        "outputId": "c72b1f8d-3ca2-4b52-d0dc-36314bd1a185"
      },
      "source": [
        "print(data[\"TotalCharges\"])"
      ],
      "execution_count": 116,
      "outputs": [
        {
          "output_type": "stream",
          "name": "stdout",
          "text": [
            "0         29.85\n",
            "1        1889.5\n",
            "2        108.15\n",
            "3       1840.75\n",
            "4        151.65\n",
            "         ...   \n",
            "7038     1990.5\n",
            "7039     7362.9\n",
            "7040     346.45\n",
            "7041      306.6\n",
            "7042     6844.5\n",
            "Name: TotalCharges, Length: 7043, dtype: object\n"
          ]
        }
      ]
    },
    {
      "cell_type": "code",
      "metadata": {
        "id": "31TAJKU7p8nu"
      },
      "source": [
        "X, y = preprocessamento(data)"
      ],
      "execution_count": 117,
      "outputs": []
    },
    {
      "cell_type": "code",
      "metadata": {
        "colab": {
          "base_uri": "https://localhost:8080/"
        },
        "id": "D9bsrhs6p8k8",
        "outputId": "7a06b950-1d43-497d-cf37-1c8962fb9bca"
      },
      "source": [
        "X_tr, X_te, y_tr, y_te = train_test_split(X, y, random_state=42, train_size=0.7)\n",
        "\n",
        "X_tr.shape, X_te.shape, y_tr.shape, y_te.shape"
      ],
      "execution_count": 118,
      "outputs": [
        {
          "output_type": "execute_result",
          "data": {
            "text/plain": [
              "((4930, 21), (2113, 21), (4930,), (2113,))"
            ]
          },
          "metadata": {},
          "execution_count": 118
        }
      ]
    },
    {
      "cell_type": "code",
      "metadata": {
        "colab": {
          "base_uri": "https://localhost:8080/"
        },
        "id": "zzDpCiGKWwht",
        "outputId": "208249bb-d1e3-4e64-8a04-f60514ae817d"
      },
      "source": [
        "X_tr.info()"
      ],
      "execution_count": 119,
      "outputs": [
        {
          "output_type": "stream",
          "name": "stdout",
          "text": [
            "<class 'pandas.core.frame.DataFrame'>\n",
            "Int64Index: 4930 entries, 1695 to 860\n",
            "Data columns (total 21 columns):\n",
            " #   Column                                   Non-Null Count  Dtype  \n",
            "---  ------                                   --------------  -----  \n",
            " 0   SeniorCitizen                            4930 non-null   int64  \n",
            " 1   Partner                                  4930 non-null   int64  \n",
            " 2   Dependents                               4930 non-null   int64  \n",
            " 3   tenure                                   4930 non-null   int64  \n",
            " 4   PhoneService                             4930 non-null   int64  \n",
            " 5   OnlineBackup                             4930 non-null   int64  \n",
            " 6   DeviceProtection                         4930 non-null   int64  \n",
            " 7   TechSupport                              4930 non-null   int64  \n",
            " 8   StreamingTV                              4930 non-null   int64  \n",
            " 9   StreamingMovies                          4930 non-null   int64  \n",
            " 10  PaperlessBilling                         4930 non-null   int64  \n",
            " 11  MonthlyCharges                           4930 non-null   float64\n",
            " 12  gender_Female                            4930 non-null   uint8  \n",
            " 13  gender_Male                              4930 non-null   uint8  \n",
            " 14  Contract_Month-to-month                  4930 non-null   uint8  \n",
            " 15  Contract_One year                        4930 non-null   uint8  \n",
            " 16  Contract_Two year                        4930 non-null   uint8  \n",
            " 17  PaymentMethod_Bank transfer (automatic)  4930 non-null   uint8  \n",
            " 18  PaymentMethod_Credit card (automatic)    4930 non-null   uint8  \n",
            " 19  PaymentMethod_Electronic check           4930 non-null   uint8  \n",
            " 20  PaymentMethod_Mailed check               4930 non-null   uint8  \n",
            "dtypes: float64(1), int64(11), uint8(9)\n",
            "memory usage: 544.0 KB\n"
          ]
        }
      ]
    },
    {
      "cell_type": "markdown",
      "metadata": {
        "id": "BdzO2jz52OMb"
      },
      "source": [
        "## Classificadores Simples"
      ]
    },
    {
      "cell_type": "markdown",
      "metadata": {
        "id": "gs9YnMME2S7L"
      },
      "source": [
        "#### KNeighborsClassifier"
      ]
    },
    {
      "cell_type": "code",
      "metadata": {
        "colab": {
          "base_uri": "https://localhost:8080/"
        },
        "id": "gY0eSHywrfgO",
        "outputId": "378a03a1-ac39-4160-b89a-e4a4ebb109c9"
      },
      "source": [
        "from sklearn.neighbors import KNeighborsClassifier\n",
        "model = KNeighborsClassifier(n_neighbors=3)\n",
        "model.fit(X_tr,y_tr)\n",
        "ypred = model.predict(X_te)\n",
        "score = sum(ypred == y_te)/len(y_te)\n",
        "score"
      ],
      "execution_count": 120,
      "outputs": [
        {
          "output_type": "execute_result",
          "data": {
            "text/plain": [
              "0.7652626597255088"
            ]
          },
          "metadata": {},
          "execution_count": 120
        }
      ]
    },
    {
      "cell_type": "markdown",
      "metadata": {
        "id": "Qd5wOQ4S2Utr"
      },
      "source": [
        "#### DecisionTreeClassifier"
      ]
    },
    {
      "cell_type": "code",
      "metadata": {
        "colab": {
          "base_uri": "https://localhost:8080/"
        },
        "id": "1efh4bep_GEd",
        "outputId": "d2fae6f3-1a23-4afb-d680-557faa595083"
      },
      "source": [
        "from sklearn.tree import DecisionTreeClassifier\n",
        "model = DecisionTreeClassifier()\n",
        "model.fit(X_tr,y_tr)\n",
        "ypred = model.predict(X_te)\n",
        "score = sum(ypred == y_te)/len(y_te)\n",
        "score"
      ],
      "execution_count": 121,
      "outputs": [
        {
          "output_type": "execute_result",
          "data": {
            "text/plain": [
              "0.7141504969238051"
            ]
          },
          "metadata": {},
          "execution_count": 121
        }
      ]
    },
    {
      "cell_type": "markdown",
      "metadata": {
        "id": "VnqKzgxK2X0L"
      },
      "source": [
        "#### Perceptron"
      ]
    },
    {
      "cell_type": "code",
      "metadata": {
        "colab": {
          "base_uri": "https://localhost:8080/"
        },
        "id": "WZh28SyCJmoI",
        "outputId": "df6b0ae5-841c-42d9-a1cf-1bf7cf7d1541"
      },
      "source": [
        "from sklearn.linear_model import Perceptron\n",
        "model = Perceptron()\n",
        "model.fit(X_tr,y_tr)\n",
        "ypred = model.predict(X_te)\n",
        "score = sum(ypred == y_te)/len(y_te)\n",
        "score"
      ],
      "execution_count": 122,
      "outputs": [
        {
          "output_type": "execute_result",
          "data": {
            "text/plain": [
              "0.6668244202555608"
            ]
          },
          "metadata": {},
          "execution_count": 122
        }
      ]
    },
    {
      "cell_type": "markdown",
      "metadata": {
        "id": "XkqVAzUPl0sk"
      },
      "source": [
        "## Bagging"
      ]
    },
    {
      "cell_type": "markdown",
      "metadata": {
        "id": "3GL9DCS91m0G"
      },
      "source": [
        "#### BaggingClassifier"
      ]
    },
    {
      "cell_type": "code",
      "metadata": {
        "colab": {
          "base_uri": "https://localhost:8080/"
        },
        "id": "TY-Tp1ltLUKZ",
        "outputId": "66f0566e-c646-4483-fcfa-b30cc20f20bf"
      },
      "source": [
        "# Diversificação por amostragem: pega amostras e substui por outras mantendo o mesmo tamanho do dataset\n",
        "# Bootstrap (bagging) utiliza aleatóriedade da amostragem para criar diversidade. As árvores geradas variam (esse algoritmo gera 10 árvores por padrão)\n",
        "# Por padrão BaggingClassifier utiliza arvore de decisao\n",
        "# A implementação abaixo é do RandomForest! (Random Forest é um Bagging de arvores de decisão)\n",
        "from sklearn.ensemble import BaggingClassifier\n",
        "model = BaggingClassifier(DecisionTreeClassifier(splitter='random'), n_estimators=100, max_features=0.5, random_state=42)\n",
        "model.fit(X_tr, y_tr)\n",
        "ypred = model.predict(X_te)\n",
        "score = sum(ypred == y_te)/len(y_te)\n",
        "score"
      ],
      "execution_count": 135,
      "outputs": [
        {
          "output_type": "execute_result",
          "data": {
            "text/plain": [
              "0.7941315664931378"
            ]
          },
          "metadata": {},
          "execution_count": 135
        }
      ]
    },
    {
      "cell_type": "markdown",
      "metadata": {
        "id": "gnVE8w5W10ZC"
      },
      "source": [
        "#### RandomForestClassifier"
      ]
    },
    {
      "cell_type": "code",
      "metadata": {
        "colab": {
          "base_uri": "https://localhost:8080/"
        },
        "id": "vSHtc00R1Sd3",
        "outputId": "9b4f00f8-2a0b-47c0-c8a9-9e8686144b1f"
      },
      "source": [
        "from sklearn.ensemble import RandomForestClassifier\n",
        "model = RandomForestClassifier(random_state=42)\n",
        "model.fit(X_tr, y_tr)\n",
        "ypred = model.predict(X_te)\n",
        "score = sum(ypred == y_te)/len(y_te)\n",
        "score"
      ],
      "execution_count": 154,
      "outputs": [
        {
          "output_type": "execute_result",
          "data": {
            "text/plain": [
              "0.783719829626124"
            ]
          },
          "metadata": {},
          "execution_count": 154
        }
      ]
    },
    {
      "cell_type": "markdown",
      "metadata": {
        "id": "m4BvJqoA13vq"
      },
      "source": [
        "#### ExtraTreesClassifier"
      ]
    },
    {
      "cell_type": "code",
      "metadata": {
        "colab": {
          "base_uri": "https://localhost:8080/"
        },
        "id": "ucZKppbHlTPd",
        "outputId": "2227f8b8-bc6d-4e07-df81-ea3de09fe71e"
      },
      "source": [
        "# Florestas extremamente aleatórias\n",
        "from sklearn.ensemble import ExtraTreesClassifier\n",
        "model = ExtraTreesClassifier(random_state=42)\n",
        "model.fit(X_tr, y_tr)\n",
        "ypred = model.predict(X_te)\n",
        "score = sum(ypred == y_te)/len(y_te)\n",
        "score"
      ],
      "execution_count": 137,
      "outputs": [
        {
          "output_type": "execute_result",
          "data": {
            "text/plain": [
              "0.7699952673923331"
            ]
          },
          "metadata": {},
          "execution_count": 137
        }
      ]
    },
    {
      "cell_type": "markdown",
      "metadata": {
        "id": "2cZGX8qC19bI"
      },
      "source": [
        "#### VotingClassifier"
      ]
    },
    {
      "cell_type": "code",
      "metadata": {
        "colab": {
          "base_uri": "https://localhost:8080/"
        },
        "id": "OMZxQZ-xCMId",
        "outputId": "53df52e7-a75f-46a8-c08a-579b4ee7fbad"
      },
      "source": [
        "from sklearn.ensemble import VotingClassifier\n",
        "model = VotingClassifier([\n",
        "                           ('knn', KNeighborsClassifier(n_neighbors=1)),\n",
        "                           ('arvore', DecisionTreeClassifier()),\n",
        "                           ('perceptron', Perceptron())])\n",
        "model.fit(X_tr,y_tr)\n",
        "vo_pred = model.predict(X_te)\n",
        "score = sum(vo_pred == y_te)/len(y_te)\n",
        "score"
      ],
      "execution_count": 124,
      "outputs": [
        {
          "output_type": "execute_result",
          "data": {
            "text/plain": [
              "0.7330809275911027"
            ]
          },
          "metadata": {},
          "execution_count": 124
        }
      ]
    },
    {
      "cell_type": "markdown",
      "metadata": {
        "id": "maVIkBiep_8H"
      },
      "source": [
        "## Boosting"
      ]
    },
    {
      "cell_type": "markdown",
      "metadata": {
        "id": "NDqgD8bU2Bsm"
      },
      "source": [
        "#### AdaBoostClassifier"
      ]
    },
    {
      "cell_type": "code",
      "metadata": {
        "id": "LJL3GQqSGO-n",
        "colab": {
          "base_uri": "https://localhost:8080/"
        },
        "outputId": "a731cf0e-6bdf-4f0e-cc40-6cc5116bd2cb"
      },
      "source": [
        "from sklearn.ensemble import AdaBoostClassifier\n",
        "model = AdaBoostClassifier(random_state=42)\n",
        "model.fit(X_tr, y_tr)\n",
        "ypred = model.predict(X_te)\n",
        "score = sum(ypred == y_te)/len(y_te)\n",
        "score"
      ],
      "execution_count": 147,
      "outputs": [
        {
          "output_type": "execute_result",
          "data": {
            "text/plain": [
              "0.7941315664931378"
            ]
          },
          "metadata": {},
          "execution_count": 147
        }
      ]
    },
    {
      "cell_type": "markdown",
      "metadata": {
        "id": "zv9TqyVN2Efm"
      },
      "source": [
        "#### XGBClassifier"
      ]
    },
    {
      "cell_type": "code",
      "metadata": {
        "colab": {
          "base_uri": "https://localhost:8080/"
        },
        "id": "zjOXZiUKqINv",
        "outputId": "6fb3a24c-e29d-4de4-f9d6-e2854c2c5d86"
      },
      "source": [
        "from xgboost import XGBClassifier\n",
        "model = XGBClassifier(use_label_encoder=False,random_state=42)\n",
        "model.fit(X_tr, y_tr)\n",
        "ypred = model.predict(X_te)\n",
        "score = sum(ypred == y_te)/len(y_te)\n",
        "score"
      ],
      "execution_count": 152,
      "outputs": [
        {
          "output_type": "execute_result",
          "data": {
            "text/plain": [
              "0.8012304779933743"
            ]
          },
          "metadata": {},
          "execution_count": 152
        }
      ]
    },
    {
      "cell_type": "markdown",
      "metadata": {
        "id": "iTTf2Kwjyqj2"
      },
      "source": [
        "## Stacking"
      ]
    },
    {
      "cell_type": "code",
      "metadata": {
        "colab": {
          "base_uri": "https://localhost:8080/"
        },
        "id": "ulY50tOSysNH",
        "outputId": "1286cf53-d93a-47f2-f261-c80c66796959"
      },
      "source": [
        "from sklearn.ensemble import StackingClassifier\n",
        "from sklearn.model_selection import GridSearchCV\n",
        "\n",
        "voting = VotingClassifier([\n",
        "                           ('knn', KNeighborsClassifier()),\n",
        "                           ('arvore', DecisionTreeClassifier()),\n",
        "                           ('perceptron', Perceptron())])\n",
        "\n",
        "model = StackingClassifier([\n",
        "                            ('voting', voting),\n",
        "                            ('xgbclassifier', XGBClassifier(use_label_encoder=False,random_state=42)),\n",
        "                            ('randomforest', RandomForestClassifier(random_state=42))])\n",
        "\n",
        "params = [\n",
        "          {\n",
        "            \"voting__knn__n_neighbors\" : [1,3,5],\n",
        "            \"voting__arvore__criterion\" : ['gini', 'entropy'],\n",
        "            \"voting__arvore__max_depth\" : [15,20,50],\n",
        "            \"randomforest__bootstrap\" : [True, False],\n",
        "            \"randomforest__min_samples_leaf\": [1,2,3]\n",
        "          }\n",
        "]\n",
        "\n",
        "grid_search_model = GridSearchCV(model, params, cv=3, verbose=3, return_train_score=True, n_jobs=1)\n",
        "grid_search_model.fit(X_tr, y_tr)\n",
        "\n",
        "grid_pred = grid_search_model.predict(X_te)\n",
        "score = sum(grid_pred == y_te)/len(y_te)\n",
        "score"
      ],
      "execution_count": 194,
      "outputs": [
        {
          "output_type": "stream",
          "name": "stdout",
          "text": [
            "Fitting 3 folds for each of 108 candidates, totalling 324 fits\n",
            "[CV 1/3] END randomforest__bootstrap=True, randomforest__min_samples_leaf=1, voting__arvore__criterion=gini, voting__arvore__max_depth=15, voting__knn__n_neighbors=1;, score=(train=0.870, test=0.805) total time=   4.5s\n",
            "[CV 2/3] END randomforest__bootstrap=True, randomforest__min_samples_leaf=1, voting__arvore__criterion=gini, voting__arvore__max_depth=15, voting__knn__n_neighbors=1;, score=(train=0.867, test=0.797) total time=   4.4s\n",
            "[CV 3/3] END randomforest__bootstrap=True, randomforest__min_samples_leaf=1, voting__arvore__criterion=gini, voting__arvore__max_depth=15, voting__knn__n_neighbors=1;, score=(train=0.847, test=0.788) total time=   4.3s\n",
            "[CV 1/3] END randomforest__bootstrap=True, randomforest__min_samples_leaf=1, voting__arvore__criterion=gini, voting__arvore__max_depth=15, voting__knn__n_neighbors=3;, score=(train=0.862, test=0.807) total time=   4.4s\n",
            "[CV 2/3] END randomforest__bootstrap=True, randomforest__min_samples_leaf=1, voting__arvore__criterion=gini, voting__arvore__max_depth=15, voting__knn__n_neighbors=3;, score=(train=0.869, test=0.796) total time=   4.4s\n",
            "[CV 3/3] END randomforest__bootstrap=True, randomforest__min_samples_leaf=1, voting__arvore__criterion=gini, voting__arvore__max_depth=15, voting__knn__n_neighbors=3;, score=(train=0.844, test=0.791) total time=   4.4s\n",
            "[CV 1/3] END randomforest__bootstrap=True, randomforest__min_samples_leaf=1, voting__arvore__criterion=gini, voting__arvore__max_depth=15, voting__knn__n_neighbors=5;, score=(train=0.861, test=0.805) total time=   4.5s\n",
            "[CV 2/3] END randomforest__bootstrap=True, randomforest__min_samples_leaf=1, voting__arvore__criterion=gini, voting__arvore__max_depth=15, voting__knn__n_neighbors=5;, score=(train=0.867, test=0.793) total time=   4.5s\n",
            "[CV 3/3] END randomforest__bootstrap=True, randomforest__min_samples_leaf=1, voting__arvore__criterion=gini, voting__arvore__max_depth=15, voting__knn__n_neighbors=5;, score=(train=0.838, test=0.785) total time=   4.5s\n",
            "[CV 1/3] END randomforest__bootstrap=True, randomforest__min_samples_leaf=1, voting__arvore__criterion=gini, voting__arvore__max_depth=20, voting__knn__n_neighbors=1;, score=(train=0.870, test=0.803) total time=   4.3s\n",
            "[CV 2/3] END randomforest__bootstrap=True, randomforest__min_samples_leaf=1, voting__arvore__criterion=gini, voting__arvore__max_depth=20, voting__knn__n_neighbors=1;, score=(train=0.872, test=0.794) total time=   4.2s\n",
            "[CV 3/3] END randomforest__bootstrap=True, randomforest__min_samples_leaf=1, voting__arvore__criterion=gini, voting__arvore__max_depth=20, voting__knn__n_neighbors=1;, score=(train=0.851, test=0.788) total time=   4.3s\n",
            "[CV 1/3] END randomforest__bootstrap=True, randomforest__min_samples_leaf=1, voting__arvore__criterion=gini, voting__arvore__max_depth=20, voting__knn__n_neighbors=3;, score=(train=0.863, test=0.807) total time=   4.3s\n",
            "[CV 2/3] END randomforest__bootstrap=True, randomforest__min_samples_leaf=1, voting__arvore__criterion=gini, voting__arvore__max_depth=20, voting__knn__n_neighbors=3;, score=(train=0.870, test=0.798) total time=   4.4s\n",
            "[CV 3/3] END randomforest__bootstrap=True, randomforest__min_samples_leaf=1, voting__arvore__criterion=gini, voting__arvore__max_depth=20, voting__knn__n_neighbors=3;, score=(train=0.844, test=0.790) total time=   4.3s\n",
            "[CV 1/3] END randomforest__bootstrap=True, randomforest__min_samples_leaf=1, voting__arvore__criterion=gini, voting__arvore__max_depth=20, voting__knn__n_neighbors=5;, score=(train=0.863, test=0.808) total time=   4.4s\n",
            "[CV 2/3] END randomforest__bootstrap=True, randomforest__min_samples_leaf=1, voting__arvore__criterion=gini, voting__arvore__max_depth=20, voting__knn__n_neighbors=5;, score=(train=0.867, test=0.798) total time=   4.5s\n",
            "[CV 3/3] END randomforest__bootstrap=True, randomforest__min_samples_leaf=1, voting__arvore__criterion=gini, voting__arvore__max_depth=20, voting__knn__n_neighbors=5;, score=(train=0.840, test=0.786) total time=   4.5s\n",
            "[CV 1/3] END randomforest__bootstrap=True, randomforest__min_samples_leaf=1, voting__arvore__criterion=gini, voting__arvore__max_depth=50, voting__knn__n_neighbors=1;, score=(train=0.869, test=0.805) total time=   4.3s\n",
            "[CV 2/3] END randomforest__bootstrap=True, randomforest__min_samples_leaf=1, voting__arvore__criterion=gini, voting__arvore__max_depth=50, voting__knn__n_neighbors=1;, score=(train=0.868, test=0.796) total time=   4.3s\n",
            "[CV 3/3] END randomforest__bootstrap=True, randomforest__min_samples_leaf=1, voting__arvore__criterion=gini, voting__arvore__max_depth=50, voting__knn__n_neighbors=1;, score=(train=0.849, test=0.789) total time=   4.3s\n",
            "[CV 1/3] END randomforest__bootstrap=True, randomforest__min_samples_leaf=1, voting__arvore__criterion=gini, voting__arvore__max_depth=50, voting__knn__n_neighbors=3;, score=(train=0.862, test=0.808) total time=   4.4s\n",
            "[CV 2/3] END randomforest__bootstrap=True, randomforest__min_samples_leaf=1, voting__arvore__criterion=gini, voting__arvore__max_depth=50, voting__knn__n_neighbors=3;, score=(train=0.871, test=0.799) total time=   4.3s\n",
            "[CV 3/3] END randomforest__bootstrap=True, randomforest__min_samples_leaf=1, voting__arvore__criterion=gini, voting__arvore__max_depth=50, voting__knn__n_neighbors=3;, score=(train=0.845, test=0.790) total time=   4.4s\n",
            "[CV 1/3] END randomforest__bootstrap=True, randomforest__min_samples_leaf=1, voting__arvore__criterion=gini, voting__arvore__max_depth=50, voting__knn__n_neighbors=5;, score=(train=0.863, test=0.805) total time=   4.4s\n",
            "[CV 2/3] END randomforest__bootstrap=True, randomforest__min_samples_leaf=1, voting__arvore__criterion=gini, voting__arvore__max_depth=50, voting__knn__n_neighbors=5;, score=(train=0.868, test=0.795) total time=   4.4s\n",
            "[CV 3/3] END randomforest__bootstrap=True, randomforest__min_samples_leaf=1, voting__arvore__criterion=gini, voting__arvore__max_depth=50, voting__knn__n_neighbors=5;, score=(train=0.840, test=0.786) total time=   4.3s\n",
            "[CV 1/3] END randomforest__bootstrap=True, randomforest__min_samples_leaf=1, voting__arvore__criterion=entropy, voting__arvore__max_depth=15, voting__knn__n_neighbors=1;, score=(train=0.865, test=0.805) total time=   4.2s\n",
            "[CV 2/3] END randomforest__bootstrap=True, randomforest__min_samples_leaf=1, voting__arvore__criterion=entropy, voting__arvore__max_depth=15, voting__knn__n_neighbors=1;, score=(train=0.864, test=0.797) total time=   4.2s\n",
            "[CV 3/3] END randomforest__bootstrap=True, randomforest__min_samples_leaf=1, voting__arvore__criterion=entropy, voting__arvore__max_depth=15, voting__knn__n_neighbors=1;, score=(train=0.844, test=0.787) total time=   4.2s\n",
            "[CV 1/3] END randomforest__bootstrap=True, randomforest__min_samples_leaf=1, voting__arvore__criterion=entropy, voting__arvore__max_depth=15, voting__knn__n_neighbors=3;, score=(train=0.862, test=0.808) total time=   4.4s\n",
            "[CV 2/3] END randomforest__bootstrap=True, randomforest__min_samples_leaf=1, voting__arvore__criterion=entropy, voting__arvore__max_depth=15, voting__knn__n_neighbors=3;, score=(train=0.867, test=0.792) total time=   4.3s\n",
            "[CV 3/3] END randomforest__bootstrap=True, randomforest__min_samples_leaf=1, voting__arvore__criterion=entropy, voting__arvore__max_depth=15, voting__knn__n_neighbors=3;, score=(train=0.841, test=0.787) total time=   4.3s\n",
            "[CV 1/3] END randomforest__bootstrap=True, randomforest__min_samples_leaf=1, voting__arvore__criterion=entropy, voting__arvore__max_depth=15, voting__knn__n_neighbors=5;, score=(train=0.862, test=0.805) total time=   4.4s\n",
            "[CV 2/3] END randomforest__bootstrap=True, randomforest__min_samples_leaf=1, voting__arvore__criterion=entropy, voting__arvore__max_depth=15, voting__knn__n_neighbors=5;, score=(train=0.866, test=0.798) total time=   4.4s\n",
            "[CV 3/3] END randomforest__bootstrap=True, randomforest__min_samples_leaf=1, voting__arvore__criterion=entropy, voting__arvore__max_depth=15, voting__knn__n_neighbors=5;, score=(train=0.839, test=0.785) total time=   4.4s\n",
            "[CV 1/3] END randomforest__bootstrap=True, randomforest__min_samples_leaf=1, voting__arvore__criterion=entropy, voting__arvore__max_depth=20, voting__knn__n_neighbors=1;, score=(train=0.866, test=0.805) total time=   4.2s\n",
            "[CV 2/3] END randomforest__bootstrap=True, randomforest__min_samples_leaf=1, voting__arvore__criterion=entropy, voting__arvore__max_depth=20, voting__knn__n_neighbors=1;, score=(train=0.865, test=0.799) total time=   4.2s\n",
            "[CV 3/3] END randomforest__bootstrap=True, randomforest__min_samples_leaf=1, voting__arvore__criterion=entropy, voting__arvore__max_depth=20, voting__knn__n_neighbors=1;, score=(train=0.851, test=0.787) total time=   4.2s\n",
            "[CV 1/3] END randomforest__bootstrap=True, randomforest__min_samples_leaf=1, voting__arvore__criterion=entropy, voting__arvore__max_depth=20, voting__knn__n_neighbors=3;, score=(train=0.862, test=0.808) total time=   4.3s\n",
            "[CV 2/3] END randomforest__bootstrap=True, randomforest__min_samples_leaf=1, voting__arvore__criterion=entropy, voting__arvore__max_depth=20, voting__knn__n_neighbors=3;, score=(train=0.868, test=0.794) total time=   4.3s\n",
            "[CV 3/3] END randomforest__bootstrap=True, randomforest__min_samples_leaf=1, voting__arvore__criterion=entropy, voting__arvore__max_depth=20, voting__knn__n_neighbors=3;, score=(train=0.842, test=0.786) total time=   4.3s\n",
            "[CV 1/3] END randomforest__bootstrap=True, randomforest__min_samples_leaf=1, voting__arvore__criterion=entropy, voting__arvore__max_depth=20, voting__knn__n_neighbors=5;, score=(train=0.862, test=0.805) total time=   4.5s\n",
            "[CV 2/3] END randomforest__bootstrap=True, randomforest__min_samples_leaf=1, voting__arvore__criterion=entropy, voting__arvore__max_depth=20, voting__knn__n_neighbors=5;, score=(train=0.866, test=0.797) total time=   4.7s\n",
            "[CV 3/3] END randomforest__bootstrap=True, randomforest__min_samples_leaf=1, voting__arvore__criterion=entropy, voting__arvore__max_depth=20, voting__knn__n_neighbors=5;, score=(train=0.842, test=0.786) total time=   4.6s\n",
            "[CV 1/3] END randomforest__bootstrap=True, randomforest__min_samples_leaf=1, voting__arvore__criterion=entropy, voting__arvore__max_depth=50, voting__knn__n_neighbors=1;, score=(train=0.866, test=0.805) total time=   4.4s\n",
            "[CV 2/3] END randomforest__bootstrap=True, randomforest__min_samples_leaf=1, voting__arvore__criterion=entropy, voting__arvore__max_depth=50, voting__knn__n_neighbors=1;, score=(train=0.868, test=0.796) total time=   4.3s\n",
            "[CV 3/3] END randomforest__bootstrap=True, randomforest__min_samples_leaf=1, voting__arvore__criterion=entropy, voting__arvore__max_depth=50, voting__knn__n_neighbors=1;, score=(train=0.849, test=0.789) total time=   4.3s\n",
            "[CV 1/3] END randomforest__bootstrap=True, randomforest__min_samples_leaf=1, voting__arvore__criterion=entropy, voting__arvore__max_depth=50, voting__knn__n_neighbors=3;, score=(train=0.861, test=0.805) total time=   4.3s\n",
            "[CV 2/3] END randomforest__bootstrap=True, randomforest__min_samples_leaf=1, voting__arvore__criterion=entropy, voting__arvore__max_depth=50, voting__knn__n_neighbors=3;, score=(train=0.869, test=0.792) total time=   4.4s\n",
            "[CV 3/3] END randomforest__bootstrap=True, randomforest__min_samples_leaf=1, voting__arvore__criterion=entropy, voting__arvore__max_depth=50, voting__knn__n_neighbors=3;, score=(train=0.841, test=0.785) total time=   4.6s\n",
            "[CV 1/3] END randomforest__bootstrap=True, randomforest__min_samples_leaf=1, voting__arvore__criterion=entropy, voting__arvore__max_depth=50, voting__knn__n_neighbors=5;, score=(train=0.862, test=0.805) total time=   4.5s\n",
            "[CV 2/3] END randomforest__bootstrap=True, randomforest__min_samples_leaf=1, voting__arvore__criterion=entropy, voting__arvore__max_depth=50, voting__knn__n_neighbors=5;, score=(train=0.866, test=0.797) total time=   4.5s\n",
            "[CV 3/3] END randomforest__bootstrap=True, randomforest__min_samples_leaf=1, voting__arvore__criterion=entropy, voting__arvore__max_depth=50, voting__knn__n_neighbors=5;, score=(train=0.843, test=0.786) total time=   4.4s\n",
            "[CV 1/3] END randomforest__bootstrap=True, randomforest__min_samples_leaf=2, voting__arvore__criterion=gini, voting__arvore__max_depth=15, voting__knn__n_neighbors=1;, score=(train=0.857, test=0.805) total time=   4.1s\n",
            "[CV 2/3] END randomforest__bootstrap=True, randomforest__min_samples_leaf=2, voting__arvore__criterion=gini, voting__arvore__max_depth=15, voting__knn__n_neighbors=1;, score=(train=0.860, test=0.795) total time=   4.0s\n",
            "[CV 3/3] END randomforest__bootstrap=True, randomforest__min_samples_leaf=2, voting__arvore__criterion=gini, voting__arvore__max_depth=15, voting__knn__n_neighbors=1;, score=(train=0.859, test=0.786) total time=   4.1s\n",
            "[CV 1/3] END randomforest__bootstrap=True, randomforest__min_samples_leaf=2, voting__arvore__criterion=gini, voting__arvore__max_depth=15, voting__knn__n_neighbors=3;, score=(train=0.853, test=0.805) total time=   4.1s\n",
            "[CV 2/3] END randomforest__bootstrap=True, randomforest__min_samples_leaf=2, voting__arvore__criterion=gini, voting__arvore__max_depth=15, voting__knn__n_neighbors=3;, score=(train=0.858, test=0.795) total time=   4.2s\n",
            "[CV 3/3] END randomforest__bootstrap=True, randomforest__min_samples_leaf=2, voting__arvore__criterion=gini, voting__arvore__max_depth=15, voting__knn__n_neighbors=3;, score=(train=0.850, test=0.788) total time=   4.1s\n",
            "[CV 1/3] END randomforest__bootstrap=True, randomforest__min_samples_leaf=2, voting__arvore__criterion=gini, voting__arvore__max_depth=15, voting__knn__n_neighbors=5;, score=(train=0.853, test=0.805) total time=   4.2s\n",
            "[CV 2/3] END randomforest__bootstrap=True, randomforest__min_samples_leaf=2, voting__arvore__criterion=gini, voting__arvore__max_depth=15, voting__knn__n_neighbors=5;, score=(train=0.859, test=0.794) total time=   4.3s\n",
            "[CV 3/3] END randomforest__bootstrap=True, randomforest__min_samples_leaf=2, voting__arvore__criterion=gini, voting__arvore__max_depth=15, voting__knn__n_neighbors=5;, score=(train=0.850, test=0.786) total time=   4.3s\n",
            "[CV 1/3] END randomforest__bootstrap=True, randomforest__min_samples_leaf=2, voting__arvore__criterion=gini, voting__arvore__max_depth=20, voting__knn__n_neighbors=1;, score=(train=0.863, test=0.804) total time=   4.1s\n",
            "[CV 2/3] END randomforest__bootstrap=True, randomforest__min_samples_leaf=2, voting__arvore__criterion=gini, voting__arvore__max_depth=20, voting__knn__n_neighbors=1;, score=(train=0.861, test=0.795) total time=   4.1s\n",
            "[CV 3/3] END randomforest__bootstrap=True, randomforest__min_samples_leaf=2, voting__arvore__criterion=gini, voting__arvore__max_depth=20, voting__knn__n_neighbors=1;, score=(train=0.861, test=0.788) total time=   4.2s\n",
            "[CV 1/3] END randomforest__bootstrap=True, randomforest__min_samples_leaf=2, voting__arvore__criterion=gini, voting__arvore__max_depth=20, voting__knn__n_neighbors=3;, score=(train=0.852, test=0.805) total time=   4.4s\n",
            "[CV 2/3] END randomforest__bootstrap=True, randomforest__min_samples_leaf=2, voting__arvore__criterion=gini, voting__arvore__max_depth=20, voting__knn__n_neighbors=3;, score=(train=0.860, test=0.797) total time=   4.3s\n",
            "[CV 3/3] END randomforest__bootstrap=True, randomforest__min_samples_leaf=2, voting__arvore__criterion=gini, voting__arvore__max_depth=20, voting__knn__n_neighbors=3;, score=(train=0.853, test=0.788) total time=   4.4s\n",
            "[CV 1/3] END randomforest__bootstrap=True, randomforest__min_samples_leaf=2, voting__arvore__criterion=gini, voting__arvore__max_depth=20, voting__knn__n_neighbors=5;, score=(train=0.854, test=0.805) total time=   4.4s\n",
            "[CV 2/3] END randomforest__bootstrap=True, randomforest__min_samples_leaf=2, voting__arvore__criterion=gini, voting__arvore__max_depth=20, voting__knn__n_neighbors=5;, score=(train=0.859, test=0.793) total time=   4.4s\n",
            "[CV 3/3] END randomforest__bootstrap=True, randomforest__min_samples_leaf=2, voting__arvore__criterion=gini, voting__arvore__max_depth=20, voting__knn__n_neighbors=5;, score=(train=0.852, test=0.786) total time=   4.4s\n",
            "[CV 1/3] END randomforest__bootstrap=True, randomforest__min_samples_leaf=2, voting__arvore__criterion=gini, voting__arvore__max_depth=50, voting__knn__n_neighbors=1;, score=(train=0.860, test=0.805) total time=   4.3s\n",
            "[CV 2/3] END randomforest__bootstrap=True, randomforest__min_samples_leaf=2, voting__arvore__criterion=gini, voting__arvore__max_depth=50, voting__knn__n_neighbors=1;, score=(train=0.858, test=0.793) total time=   4.2s\n",
            "[CV 3/3] END randomforest__bootstrap=True, randomforest__min_samples_leaf=2, voting__arvore__criterion=gini, voting__arvore__max_depth=50, voting__knn__n_neighbors=1;, score=(train=0.860, test=0.786) total time=   4.2s\n",
            "[CV 1/3] END randomforest__bootstrap=True, randomforest__min_samples_leaf=2, voting__arvore__criterion=gini, voting__arvore__max_depth=50, voting__knn__n_neighbors=3;, score=(train=0.853, test=0.804) total time=   4.3s\n",
            "[CV 2/3] END randomforest__bootstrap=True, randomforest__min_samples_leaf=2, voting__arvore__criterion=gini, voting__arvore__max_depth=50, voting__knn__n_neighbors=3;, score=(train=0.860, test=0.795) total time=   4.2s\n",
            "[CV 3/3] END randomforest__bootstrap=True, randomforest__min_samples_leaf=2, voting__arvore__criterion=gini, voting__arvore__max_depth=50, voting__knn__n_neighbors=3;, score=(train=0.853, test=0.788) total time=   4.3s\n",
            "[CV 1/3] END randomforest__bootstrap=True, randomforest__min_samples_leaf=2, voting__arvore__criterion=gini, voting__arvore__max_depth=50, voting__knn__n_neighbors=5;, score=(train=0.855, test=0.805) total time=   4.3s\n",
            "[CV 2/3] END randomforest__bootstrap=True, randomforest__min_samples_leaf=2, voting__arvore__criterion=gini, voting__arvore__max_depth=50, voting__knn__n_neighbors=5;, score=(train=0.857, test=0.792) total time=   4.3s\n",
            "[CV 3/3] END randomforest__bootstrap=True, randomforest__min_samples_leaf=2, voting__arvore__criterion=gini, voting__arvore__max_depth=50, voting__knn__n_neighbors=5;, score=(train=0.851, test=0.787) total time=   4.5s\n",
            "[CV 1/3] END randomforest__bootstrap=True, randomforest__min_samples_leaf=2, voting__arvore__criterion=entropy, voting__arvore__max_depth=15, voting__knn__n_neighbors=1;, score=(train=0.855, test=0.806) total time=   4.2s\n",
            "[CV 2/3] END randomforest__bootstrap=True, randomforest__min_samples_leaf=2, voting__arvore__criterion=entropy, voting__arvore__max_depth=15, voting__knn__n_neighbors=1;, score=(train=0.855, test=0.794) total time=   4.2s\n",
            "[CV 3/3] END randomforest__bootstrap=True, randomforest__min_samples_leaf=2, voting__arvore__criterion=entropy, voting__arvore__max_depth=15, voting__knn__n_neighbors=1;, score=(train=0.857, test=0.787) total time=   4.3s\n",
            "[CV 1/3] END randomforest__bootstrap=True, randomforest__min_samples_leaf=2, voting__arvore__criterion=entropy, voting__arvore__max_depth=15, voting__knn__n_neighbors=3;, score=(train=0.853, test=0.804) total time=   4.4s\n",
            "[CV 2/3] END randomforest__bootstrap=True, randomforest__min_samples_leaf=2, voting__arvore__criterion=entropy, voting__arvore__max_depth=15, voting__knn__n_neighbors=3;, score=(train=0.858, test=0.796) total time=   4.3s\n",
            "[CV 3/3] END randomforest__bootstrap=True, randomforest__min_samples_leaf=2, voting__arvore__criterion=entropy, voting__arvore__max_depth=15, voting__knn__n_neighbors=3;, score=(train=0.849, test=0.786) total time=   4.3s\n",
            "[CV 1/3] END randomforest__bootstrap=True, randomforest__min_samples_leaf=2, voting__arvore__criterion=entropy, voting__arvore__max_depth=15, voting__knn__n_neighbors=5;, score=(train=0.852, test=0.805) total time=   4.2s\n",
            "[CV 2/3] END randomforest__bootstrap=True, randomforest__min_samples_leaf=2, voting__arvore__criterion=entropy, voting__arvore__max_depth=15, voting__knn__n_neighbors=5;, score=(train=0.856, test=0.792) total time=   4.3s\n",
            "[CV 3/3] END randomforest__bootstrap=True, randomforest__min_samples_leaf=2, voting__arvore__criterion=entropy, voting__arvore__max_depth=15, voting__knn__n_neighbors=5;, score=(train=0.850, test=0.786) total time=   4.4s\n",
            "[CV 1/3] END randomforest__bootstrap=True, randomforest__min_samples_leaf=2, voting__arvore__criterion=entropy, voting__arvore__max_depth=20, voting__knn__n_neighbors=1;, score=(train=0.855, test=0.808) total time=   4.2s\n",
            "[CV 2/3] END randomforest__bootstrap=True, randomforest__min_samples_leaf=2, voting__arvore__criterion=entropy, voting__arvore__max_depth=20, voting__knn__n_neighbors=1;, score=(train=0.856, test=0.794) total time=   4.2s\n",
            "[CV 3/3] END randomforest__bootstrap=True, randomforest__min_samples_leaf=2, voting__arvore__criterion=entropy, voting__arvore__max_depth=20, voting__knn__n_neighbors=1;, score=(train=0.863, test=0.787) total time=   4.1s\n",
            "[CV 1/3] END randomforest__bootstrap=True, randomforest__min_samples_leaf=2, voting__arvore__criterion=entropy, voting__arvore__max_depth=20, voting__knn__n_neighbors=3;, score=(train=0.852, test=0.805) total time=   4.3s\n",
            "[CV 2/3] END randomforest__bootstrap=True, randomforest__min_samples_leaf=2, voting__arvore__criterion=entropy, voting__arvore__max_depth=20, voting__knn__n_neighbors=3;, score=(train=0.859, test=0.797) total time=   4.3s\n",
            "[CV 3/3] END randomforest__bootstrap=True, randomforest__min_samples_leaf=2, voting__arvore__criterion=entropy, voting__arvore__max_depth=20, voting__knn__n_neighbors=3;, score=(train=0.853, test=0.786) total time=   4.3s\n",
            "[CV 1/3] END randomforest__bootstrap=True, randomforest__min_samples_leaf=2, voting__arvore__criterion=entropy, voting__arvore__max_depth=20, voting__knn__n_neighbors=5;, score=(train=0.852, test=0.805) total time=   4.4s\n",
            "[CV 2/3] END randomforest__bootstrap=True, randomforest__min_samples_leaf=2, voting__arvore__criterion=entropy, voting__arvore__max_depth=20, voting__knn__n_neighbors=5;, score=(train=0.858, test=0.794) total time=   4.4s\n",
            "[CV 3/3] END randomforest__bootstrap=True, randomforest__min_samples_leaf=2, voting__arvore__criterion=entropy, voting__arvore__max_depth=20, voting__knn__n_neighbors=5;, score=(train=0.853, test=0.789) total time=   4.4s\n",
            "[CV 1/3] END randomforest__bootstrap=True, randomforest__min_samples_leaf=2, voting__arvore__criterion=entropy, voting__arvore__max_depth=50, voting__knn__n_neighbors=1;, score=(train=0.856, test=0.807) total time=   4.2s\n",
            "[CV 2/3] END randomforest__bootstrap=True, randomforest__min_samples_leaf=2, voting__arvore__criterion=entropy, voting__arvore__max_depth=50, voting__knn__n_neighbors=1;, score=(train=0.858, test=0.792) total time=   4.2s\n",
            "[CV 3/3] END randomforest__bootstrap=True, randomforest__min_samples_leaf=2, voting__arvore__criterion=entropy, voting__arvore__max_depth=50, voting__knn__n_neighbors=1;, score=(train=0.859, test=0.788) total time=   4.2s\n",
            "[CV 1/3] END randomforest__bootstrap=True, randomforest__min_samples_leaf=2, voting__arvore__criterion=entropy, voting__arvore__max_depth=50, voting__knn__n_neighbors=3;, score=(train=0.851, test=0.805) total time=   4.3s\n",
            "[CV 2/3] END randomforest__bootstrap=True, randomforest__min_samples_leaf=2, voting__arvore__criterion=entropy, voting__arvore__max_depth=50, voting__knn__n_neighbors=3;, score=(train=0.859, test=0.796) total time=   4.3s\n",
            "[CV 3/3] END randomforest__bootstrap=True, randomforest__min_samples_leaf=2, voting__arvore__criterion=entropy, voting__arvore__max_depth=50, voting__knn__n_neighbors=3;, score=(train=0.850, test=0.788) total time=   4.3s\n",
            "[CV 1/3] END randomforest__bootstrap=True, randomforest__min_samples_leaf=2, voting__arvore__criterion=entropy, voting__arvore__max_depth=50, voting__knn__n_neighbors=5;, score=(train=0.853, test=0.805) total time=   4.4s\n",
            "[CV 2/3] END randomforest__bootstrap=True, randomforest__min_samples_leaf=2, voting__arvore__criterion=entropy, voting__arvore__max_depth=50, voting__knn__n_neighbors=5;, score=(train=0.857, test=0.792) total time=   4.5s\n",
            "[CV 3/3] END randomforest__bootstrap=True, randomforest__min_samples_leaf=2, voting__arvore__criterion=entropy, voting__arvore__max_depth=50, voting__knn__n_neighbors=5;, score=(train=0.852, test=0.786) total time=   4.3s\n",
            "[CV 1/3] END randomforest__bootstrap=True, randomforest__min_samples_leaf=3, voting__arvore__criterion=gini, voting__arvore__max_depth=15, voting__knn__n_neighbors=1;, score=(train=0.855, test=0.806) total time=   4.1s\n",
            "[CV 2/3] END randomforest__bootstrap=True, randomforest__min_samples_leaf=3, voting__arvore__criterion=gini, voting__arvore__max_depth=15, voting__knn__n_neighbors=1;, score=(train=0.849, test=0.795) total time=   4.1s\n",
            "[CV 3/3] END randomforest__bootstrap=True, randomforest__min_samples_leaf=3, voting__arvore__criterion=gini, voting__arvore__max_depth=15, voting__knn__n_neighbors=1;, score=(train=0.856, test=0.788) total time=   4.1s\n",
            "[CV 1/3] END randomforest__bootstrap=True, randomforest__min_samples_leaf=3, voting__arvore__criterion=gini, voting__arvore__max_depth=15, voting__knn__n_neighbors=3;, score=(train=0.847, test=0.806) total time=   4.2s\n",
            "[CV 2/3] END randomforest__bootstrap=True, randomforest__min_samples_leaf=3, voting__arvore__criterion=gini, voting__arvore__max_depth=15, voting__knn__n_neighbors=3;, score=(train=0.850, test=0.798) total time=   4.2s\n",
            "[CV 3/3] END randomforest__bootstrap=True, randomforest__min_samples_leaf=3, voting__arvore__criterion=gini, voting__arvore__max_depth=15, voting__knn__n_neighbors=3;, score=(train=0.849, test=0.788) total time=   4.1s\n",
            "[CV 1/3] END randomforest__bootstrap=True, randomforest__min_samples_leaf=3, voting__arvore__criterion=gini, voting__arvore__max_depth=15, voting__knn__n_neighbors=5;, score=(train=0.849, test=0.807) total time=   4.3s\n",
            "[CV 2/3] END randomforest__bootstrap=True, randomforest__min_samples_leaf=3, voting__arvore__criterion=gini, voting__arvore__max_depth=15, voting__knn__n_neighbors=5;, score=(train=0.848, test=0.796) total time=   4.4s\n",
            "[CV 3/3] END randomforest__bootstrap=True, randomforest__min_samples_leaf=3, voting__arvore__criterion=gini, voting__arvore__max_depth=15, voting__knn__n_neighbors=5;, score=(train=0.845, test=0.788) total time=   4.2s\n",
            "[CV 1/3] END randomforest__bootstrap=True, randomforest__min_samples_leaf=3, voting__arvore__criterion=gini, voting__arvore__max_depth=20, voting__knn__n_neighbors=1;, score=(train=0.862, test=0.803) total time=   4.0s\n",
            "[CV 2/3] END randomforest__bootstrap=True, randomforest__min_samples_leaf=3, voting__arvore__criterion=gini, voting__arvore__max_depth=20, voting__knn__n_neighbors=1;, score=(train=0.850, test=0.795) total time=   4.1s\n",
            "[CV 3/3] END randomforest__bootstrap=True, randomforest__min_samples_leaf=3, voting__arvore__criterion=gini, voting__arvore__max_depth=20, voting__knn__n_neighbors=1;, score=(train=0.855, test=0.786) total time=   4.1s\n",
            "[CV 1/3] END randomforest__bootstrap=True, randomforest__min_samples_leaf=3, voting__arvore__criterion=gini, voting__arvore__max_depth=20, voting__knn__n_neighbors=3;, score=(train=0.848, test=0.807) total time=   4.3s\n",
            "[CV 2/3] END randomforest__bootstrap=True, randomforest__min_samples_leaf=3, voting__arvore__criterion=gini, voting__arvore__max_depth=20, voting__knn__n_neighbors=3;, score=(train=0.852, test=0.799) total time=   4.2s\n",
            "[CV 3/3] END randomforest__bootstrap=True, randomforest__min_samples_leaf=3, voting__arvore__criterion=gini, voting__arvore__max_depth=20, voting__knn__n_neighbors=3;, score=(train=0.850, test=0.788) total time=   4.2s\n",
            "[CV 1/3] END randomforest__bootstrap=True, randomforest__min_samples_leaf=3, voting__arvore__criterion=gini, voting__arvore__max_depth=20, voting__knn__n_neighbors=5;, score=(train=0.848, test=0.807) total time=   4.2s\n",
            "[CV 2/3] END randomforest__bootstrap=True, randomforest__min_samples_leaf=3, voting__arvore__criterion=gini, voting__arvore__max_depth=20, voting__knn__n_neighbors=5;, score=(train=0.847, test=0.796) total time=   4.2s\n",
            "[CV 3/3] END randomforest__bootstrap=True, randomforest__min_samples_leaf=3, voting__arvore__criterion=gini, voting__arvore__max_depth=20, voting__knn__n_neighbors=5;, score=(train=0.846, test=0.787) total time=   4.2s\n",
            "[CV 1/3] END randomforest__bootstrap=True, randomforest__min_samples_leaf=3, voting__arvore__criterion=gini, voting__arvore__max_depth=50, voting__knn__n_neighbors=1;, score=(train=0.855, test=0.807) total time=   4.1s\n",
            "[CV 2/3] END randomforest__bootstrap=True, randomforest__min_samples_leaf=3, voting__arvore__criterion=gini, voting__arvore__max_depth=50, voting__knn__n_neighbors=1;, score=(train=0.850, test=0.794) total time=   4.1s\n",
            "[CV 3/3] END randomforest__bootstrap=True, randomforest__min_samples_leaf=3, voting__arvore__criterion=gini, voting__arvore__max_depth=50, voting__knn__n_neighbors=1;, score=(train=0.858, test=0.789) total time=   4.1s\n",
            "[CV 1/3] END randomforest__bootstrap=True, randomforest__min_samples_leaf=3, voting__arvore__criterion=gini, voting__arvore__max_depth=50, voting__knn__n_neighbors=3;, score=(train=0.848, test=0.806) total time=   4.2s\n",
            "[CV 2/3] END randomforest__bootstrap=True, randomforest__min_samples_leaf=3, voting__arvore__criterion=gini, voting__arvore__max_depth=50, voting__knn__n_neighbors=3;, score=(train=0.849, test=0.797) total time=   4.2s\n",
            "[CV 3/3] END randomforest__bootstrap=True, randomforest__min_samples_leaf=3, voting__arvore__criterion=gini, voting__arvore__max_depth=50, voting__knn__n_neighbors=3;, score=(train=0.858, test=0.790) total time=   4.2s\n",
            "[CV 1/3] END randomforest__bootstrap=True, randomforest__min_samples_leaf=3, voting__arvore__criterion=gini, voting__arvore__max_depth=50, voting__knn__n_neighbors=5;, score=(train=0.850, test=0.808) total time=   4.2s\n",
            "[CV 2/3] END randomforest__bootstrap=True, randomforest__min_samples_leaf=3, voting__arvore__criterion=gini, voting__arvore__max_depth=50, voting__knn__n_neighbors=5;, score=(train=0.848, test=0.796) total time=   4.2s\n",
            "[CV 3/3] END randomforest__bootstrap=True, randomforest__min_samples_leaf=3, voting__arvore__criterion=gini, voting__arvore__max_depth=50, voting__knn__n_neighbors=5;, score=(train=0.848, test=0.786) total time=   4.3s\n",
            "[CV 1/3] END randomforest__bootstrap=True, randomforest__min_samples_leaf=3, voting__arvore__criterion=entropy, voting__arvore__max_depth=15, voting__knn__n_neighbors=1;, score=(train=0.851, test=0.807) total time=   4.1s\n",
            "[CV 2/3] END randomforest__bootstrap=True, randomforest__min_samples_leaf=3, voting__arvore__criterion=entropy, voting__arvore__max_depth=15, voting__knn__n_neighbors=1;, score=(train=0.845, test=0.796) total time=   4.0s\n",
            "[CV 3/3] END randomforest__bootstrap=True, randomforest__min_samples_leaf=3, voting__arvore__criterion=entropy, voting__arvore__max_depth=15, voting__knn__n_neighbors=1;, score=(train=0.853, test=0.786) total time=   4.1s\n",
            "[CV 1/3] END randomforest__bootstrap=True, randomforest__min_samples_leaf=3, voting__arvore__criterion=entropy, voting__arvore__max_depth=15, voting__knn__n_neighbors=3;, score=(train=0.844, test=0.807) total time=   4.1s\n",
            "[CV 2/3] END randomforest__bootstrap=True, randomforest__min_samples_leaf=3, voting__arvore__criterion=entropy, voting__arvore__max_depth=15, voting__knn__n_neighbors=3;, score=(train=0.848, test=0.794) total time=   4.1s\n",
            "[CV 3/3] END randomforest__bootstrap=True, randomforest__min_samples_leaf=3, voting__arvore__criterion=entropy, voting__arvore__max_depth=15, voting__knn__n_neighbors=3;, score=(train=0.846, test=0.788) total time=   4.1s\n",
            "[CV 1/3] END randomforest__bootstrap=True, randomforest__min_samples_leaf=3, voting__arvore__criterion=entropy, voting__arvore__max_depth=15, voting__knn__n_neighbors=5;, score=(train=0.847, test=0.805) total time=   4.3s\n",
            "[CV 2/3] END randomforest__bootstrap=True, randomforest__min_samples_leaf=3, voting__arvore__criterion=entropy, voting__arvore__max_depth=15, voting__knn__n_neighbors=5;, score=(train=0.847, test=0.796) total time=   4.2s\n",
            "[CV 3/3] END randomforest__bootstrap=True, randomforest__min_samples_leaf=3, voting__arvore__criterion=entropy, voting__arvore__max_depth=15, voting__knn__n_neighbors=5;, score=(train=0.847, test=0.788) total time=   4.3s\n",
            "[CV 1/3] END randomforest__bootstrap=True, randomforest__min_samples_leaf=3, voting__arvore__criterion=entropy, voting__arvore__max_depth=20, voting__knn__n_neighbors=1;, score=(train=0.849, test=0.808) total time=   4.1s\n",
            "[CV 2/3] END randomforest__bootstrap=True, randomforest__min_samples_leaf=3, voting__arvore__criterion=entropy, voting__arvore__max_depth=20, voting__knn__n_neighbors=1;, score=(train=0.848, test=0.796) total time=   4.1s\n",
            "[CV 3/3] END randomforest__bootstrap=True, randomforest__min_samples_leaf=3, voting__arvore__criterion=entropy, voting__arvore__max_depth=20, voting__knn__n_neighbors=1;, score=(train=0.863, test=0.789) total time=   4.1s\n",
            "[CV 1/3] END randomforest__bootstrap=True, randomforest__min_samples_leaf=3, voting__arvore__criterion=entropy, voting__arvore__max_depth=20, voting__knn__n_neighbors=3;, score=(train=0.844, test=0.806) total time=   4.2s\n",
            "[CV 2/3] END randomforest__bootstrap=True, randomforest__min_samples_leaf=3, voting__arvore__criterion=entropy, voting__arvore__max_depth=20, voting__knn__n_neighbors=3;, score=(train=0.851, test=0.796) total time=   4.3s\n",
            "[CV 3/3] END randomforest__bootstrap=True, randomforest__min_samples_leaf=3, voting__arvore__criterion=entropy, voting__arvore__max_depth=20, voting__knn__n_neighbors=3;, score=(train=0.852, test=0.786) total time=   4.4s\n",
            "[CV 1/3] END randomforest__bootstrap=True, randomforest__min_samples_leaf=3, voting__arvore__criterion=entropy, voting__arvore__max_depth=20, voting__knn__n_neighbors=5;, score=(train=0.847, test=0.805) total time=   4.4s\n",
            "[CV 2/3] END randomforest__bootstrap=True, randomforest__min_samples_leaf=3, voting__arvore__criterion=entropy, voting__arvore__max_depth=20, voting__knn__n_neighbors=5;, score=(train=0.847, test=0.796) total time=   4.4s\n",
            "[CV 3/3] END randomforest__bootstrap=True, randomforest__min_samples_leaf=3, voting__arvore__criterion=entropy, voting__arvore__max_depth=20, voting__knn__n_neighbors=5;, score=(train=0.848, test=0.788) total time=   4.4s\n",
            "[CV 1/3] END randomforest__bootstrap=True, randomforest__min_samples_leaf=3, voting__arvore__criterion=entropy, voting__arvore__max_depth=50, voting__knn__n_neighbors=1;, score=(train=0.847, test=0.805) total time=   4.2s\n",
            "[CV 2/3] END randomforest__bootstrap=True, randomforest__min_samples_leaf=3, voting__arvore__criterion=entropy, voting__arvore__max_depth=50, voting__knn__n_neighbors=1;, score=(train=0.846, test=0.796) total time=   4.3s\n",
            "[CV 3/3] END randomforest__bootstrap=True, randomforest__min_samples_leaf=3, voting__arvore__criterion=entropy, voting__arvore__max_depth=50, voting__knn__n_neighbors=1;, score=(train=0.857, test=0.788) total time=   4.2s\n",
            "[CV 1/3] END randomforest__bootstrap=True, randomforest__min_samples_leaf=3, voting__arvore__criterion=entropy, voting__arvore__max_depth=50, voting__knn__n_neighbors=3;, score=(train=0.843, test=0.808) total time=   4.2s\n",
            "[CV 2/3] END randomforest__bootstrap=True, randomforest__min_samples_leaf=3, voting__arvore__criterion=entropy, voting__arvore__max_depth=50, voting__knn__n_neighbors=3;, score=(train=0.851, test=0.795) total time=   4.3s\n",
            "[CV 3/3] END randomforest__bootstrap=True, randomforest__min_samples_leaf=3, voting__arvore__criterion=entropy, voting__arvore__max_depth=50, voting__knn__n_neighbors=3;, score=(train=0.848, test=0.788) total time=   4.3s\n",
            "[CV 1/3] END randomforest__bootstrap=True, randomforest__min_samples_leaf=3, voting__arvore__criterion=entropy, voting__arvore__max_depth=50, voting__knn__n_neighbors=5;, score=(train=0.846, test=0.806) total time=   4.3s\n",
            "[CV 2/3] END randomforest__bootstrap=True, randomforest__min_samples_leaf=3, voting__arvore__criterion=entropy, voting__arvore__max_depth=50, voting__knn__n_neighbors=5;, score=(train=0.847, test=0.795) total time=   4.3s\n",
            "[CV 3/3] END randomforest__bootstrap=True, randomforest__min_samples_leaf=3, voting__arvore__criterion=entropy, voting__arvore__max_depth=50, voting__knn__n_neighbors=5;, score=(train=0.848, test=0.786) total time=   4.4s\n",
            "[CV 1/3] END randomforest__bootstrap=False, randomforest__min_samples_leaf=1, voting__arvore__criterion=gini, voting__arvore__max_depth=15, voting__knn__n_neighbors=1;, score=(train=0.854, test=0.808) total time=   5.0s\n",
            "[CV 2/3] END randomforest__bootstrap=False, randomforest__min_samples_leaf=1, voting__arvore__criterion=gini, voting__arvore__max_depth=15, voting__knn__n_neighbors=1;, score=(train=0.863, test=0.794) total time=   5.1s\n",
            "[CV 3/3] END randomforest__bootstrap=False, randomforest__min_samples_leaf=1, voting__arvore__criterion=gini, voting__arvore__max_depth=15, voting__knn__n_neighbors=1;, score=(train=0.841, test=0.787) total time=   4.9s\n",
            "[CV 1/3] END randomforest__bootstrap=False, randomforest__min_samples_leaf=1, voting__arvore__criterion=gini, voting__arvore__max_depth=15, voting__knn__n_neighbors=3;, score=(train=0.851, test=0.807) total time=   5.0s\n",
            "[CV 2/3] END randomforest__bootstrap=False, randomforest__min_samples_leaf=1, voting__arvore__criterion=gini, voting__arvore__max_depth=15, voting__knn__n_neighbors=3;, score=(train=0.861, test=0.800) total time=   4.9s\n",
            "[CV 3/3] END randomforest__bootstrap=False, randomforest__min_samples_leaf=1, voting__arvore__criterion=gini, voting__arvore__max_depth=15, voting__knn__n_neighbors=3;, score=(train=0.840, test=0.789) total time=   5.0s\n",
            "[CV 1/3] END randomforest__bootstrap=False, randomforest__min_samples_leaf=1, voting__arvore__criterion=gini, voting__arvore__max_depth=15, voting__knn__n_neighbors=5;, score=(train=0.846, test=0.808) total time=   5.0s\n",
            "[CV 2/3] END randomforest__bootstrap=False, randomforest__min_samples_leaf=1, voting__arvore__criterion=gini, voting__arvore__max_depth=15, voting__knn__n_neighbors=5;, score=(train=0.859, test=0.795) total time=   5.1s\n",
            "[CV 3/3] END randomforest__bootstrap=False, randomforest__min_samples_leaf=1, voting__arvore__criterion=gini, voting__arvore__max_depth=15, voting__knn__n_neighbors=5;, score=(train=0.839, test=0.785) total time=   5.1s\n",
            "[CV 1/3] END randomforest__bootstrap=False, randomforest__min_samples_leaf=1, voting__arvore__criterion=gini, voting__arvore__max_depth=20, voting__knn__n_neighbors=1;, score=(train=0.858, test=0.810) total time=   4.9s\n",
            "[CV 2/3] END randomforest__bootstrap=False, randomforest__min_samples_leaf=1, voting__arvore__criterion=gini, voting__arvore__max_depth=20, voting__knn__n_neighbors=1;, score=(train=0.862, test=0.795) total time=   4.9s\n",
            "[CV 3/3] END randomforest__bootstrap=False, randomforest__min_samples_leaf=1, voting__arvore__criterion=gini, voting__arvore__max_depth=20, voting__knn__n_neighbors=1;, score=(train=0.845, test=0.789) total time=   4.9s\n",
            "[CV 1/3] END randomforest__bootstrap=False, randomforest__min_samples_leaf=1, voting__arvore__criterion=gini, voting__arvore__max_depth=20, voting__knn__n_neighbors=3;, score=(train=0.852, test=0.806) total time=   4.9s\n",
            "[CV 2/3] END randomforest__bootstrap=False, randomforest__min_samples_leaf=1, voting__arvore__criterion=gini, voting__arvore__max_depth=20, voting__knn__n_neighbors=3;, score=(train=0.860, test=0.797) total time=   4.9s\n",
            "[CV 3/3] END randomforest__bootstrap=False, randomforest__min_samples_leaf=1, voting__arvore__criterion=gini, voting__arvore__max_depth=20, voting__knn__n_neighbors=3;, score=(train=0.841, test=0.789) total time=   5.0s\n",
            "[CV 1/3] END randomforest__bootstrap=False, randomforest__min_samples_leaf=1, voting__arvore__criterion=gini, voting__arvore__max_depth=20, voting__knn__n_neighbors=5;, score=(train=0.849, test=0.808) total time=   5.1s\n",
            "[CV 2/3] END randomforest__bootstrap=False, randomforest__min_samples_leaf=1, voting__arvore__criterion=gini, voting__arvore__max_depth=20, voting__knn__n_neighbors=5;, score=(train=0.860, test=0.797) total time=   5.0s\n",
            "[CV 3/3] END randomforest__bootstrap=False, randomforest__min_samples_leaf=1, voting__arvore__criterion=gini, voting__arvore__max_depth=20, voting__knn__n_neighbors=5;, score=(train=0.841, test=0.789) total time=   4.9s\n",
            "[CV 1/3] END randomforest__bootstrap=False, randomforest__min_samples_leaf=1, voting__arvore__criterion=gini, voting__arvore__max_depth=50, voting__knn__n_neighbors=1;, score=(train=0.859, test=0.810) total time=   4.8s\n",
            "[CV 2/3] END randomforest__bootstrap=False, randomforest__min_samples_leaf=1, voting__arvore__criterion=gini, voting__arvore__max_depth=50, voting__knn__n_neighbors=1;, score=(train=0.862, test=0.795) total time=   4.7s\n",
            "[CV 3/3] END randomforest__bootstrap=False, randomforest__min_samples_leaf=1, voting__arvore__criterion=gini, voting__arvore__max_depth=50, voting__knn__n_neighbors=1;, score=(train=0.843, test=0.788) total time=   4.8s\n",
            "[CV 1/3] END randomforest__bootstrap=False, randomforest__min_samples_leaf=1, voting__arvore__criterion=gini, voting__arvore__max_depth=50, voting__knn__n_neighbors=3;, score=(train=0.852, test=0.806) total time=   4.7s\n",
            "[CV 2/3] END randomforest__bootstrap=False, randomforest__min_samples_leaf=1, voting__arvore__criterion=gini, voting__arvore__max_depth=50, voting__knn__n_neighbors=3;, score=(train=0.861, test=0.798) total time=   4.7s\n",
            "[CV 3/3] END randomforest__bootstrap=False, randomforest__min_samples_leaf=1, voting__arvore__criterion=gini, voting__arvore__max_depth=50, voting__knn__n_neighbors=3;, score=(train=0.840, test=0.789) total time=   4.7s\n",
            "[CV 1/3] END randomforest__bootstrap=False, randomforest__min_samples_leaf=1, voting__arvore__criterion=gini, voting__arvore__max_depth=50, voting__knn__n_neighbors=5;, score=(train=0.849, test=0.808) total time=   4.8s\n",
            "[CV 2/3] END randomforest__bootstrap=False, randomforest__min_samples_leaf=1, voting__arvore__criterion=gini, voting__arvore__max_depth=50, voting__knn__n_neighbors=5;, score=(train=0.859, test=0.792) total time=   4.8s\n",
            "[CV 3/3] END randomforest__bootstrap=False, randomforest__min_samples_leaf=1, voting__arvore__criterion=gini, voting__arvore__max_depth=50, voting__knn__n_neighbors=5;, score=(train=0.841, test=0.787) total time=   4.9s\n",
            "[CV 1/3] END randomforest__bootstrap=False, randomforest__min_samples_leaf=1, voting__arvore__criterion=entropy, voting__arvore__max_depth=15, voting__knn__n_neighbors=1;, score=(train=0.853, test=0.808) total time=   4.6s\n",
            "[CV 2/3] END randomforest__bootstrap=False, randomforest__min_samples_leaf=1, voting__arvore__criterion=entropy, voting__arvore__max_depth=15, voting__knn__n_neighbors=1;, score=(train=0.860, test=0.794) total time=   4.6s\n",
            "[CV 3/3] END randomforest__bootstrap=False, randomforest__min_samples_leaf=1, voting__arvore__criterion=entropy, voting__arvore__max_depth=15, voting__knn__n_neighbors=1;, score=(train=0.840, test=0.788) total time=   4.7s\n",
            "[CV 1/3] END randomforest__bootstrap=False, randomforest__min_samples_leaf=1, voting__arvore__criterion=entropy, voting__arvore__max_depth=15, voting__knn__n_neighbors=3;, score=(train=0.852, test=0.807) total time=   4.8s\n",
            "[CV 2/3] END randomforest__bootstrap=False, randomforest__min_samples_leaf=1, voting__arvore__criterion=entropy, voting__arvore__max_depth=15, voting__knn__n_neighbors=3;, score=(train=0.859, test=0.795) total time=   4.9s\n",
            "[CV 3/3] END randomforest__bootstrap=False, randomforest__min_samples_leaf=1, voting__arvore__criterion=entropy, voting__arvore__max_depth=15, voting__knn__n_neighbors=3;, score=(train=0.839, test=0.785) total time=   4.9s\n",
            "[CV 1/3] END randomforest__bootstrap=False, randomforest__min_samples_leaf=1, voting__arvore__criterion=entropy, voting__arvore__max_depth=15, voting__knn__n_neighbors=5;, score=(train=0.851, test=0.807) total time=   5.0s\n",
            "[CV 2/3] END randomforest__bootstrap=False, randomforest__min_samples_leaf=1, voting__arvore__criterion=entropy, voting__arvore__max_depth=15, voting__knn__n_neighbors=5;, score=(train=0.860, test=0.793) total time=   4.9s\n",
            "[CV 3/3] END randomforest__bootstrap=False, randomforest__min_samples_leaf=1, voting__arvore__criterion=entropy, voting__arvore__max_depth=15, voting__knn__n_neighbors=5;, score=(train=0.839, test=0.787) total time=   4.9s\n",
            "[CV 1/3] END randomforest__bootstrap=False, randomforest__min_samples_leaf=1, voting__arvore__criterion=entropy, voting__arvore__max_depth=20, voting__knn__n_neighbors=1;, score=(train=0.856, test=0.807) total time=   4.9s\n",
            "[CV 2/3] END randomforest__bootstrap=False, randomforest__min_samples_leaf=1, voting__arvore__criterion=entropy, voting__arvore__max_depth=20, voting__knn__n_neighbors=1;, score=(train=0.861, test=0.794) total time=   4.7s\n",
            "[CV 3/3] END randomforest__bootstrap=False, randomforest__min_samples_leaf=1, voting__arvore__criterion=entropy, voting__arvore__max_depth=20, voting__knn__n_neighbors=1;, score=(train=0.846, test=0.786) total time=   4.7s\n",
            "[CV 1/3] END randomforest__bootstrap=False, randomforest__min_samples_leaf=1, voting__arvore__criterion=entropy, voting__arvore__max_depth=20, voting__knn__n_neighbors=3;, score=(train=0.851, test=0.805) total time=   4.8s\n",
            "[CV 2/3] END randomforest__bootstrap=False, randomforest__min_samples_leaf=1, voting__arvore__criterion=entropy, voting__arvore__max_depth=20, voting__knn__n_neighbors=3;, score=(train=0.861, test=0.795) total time=   4.7s\n",
            "[CV 3/3] END randomforest__bootstrap=False, randomforest__min_samples_leaf=1, voting__arvore__criterion=entropy, voting__arvore__max_depth=20, voting__knn__n_neighbors=3;, score=(train=0.841, test=0.789) total time=   4.8s\n",
            "[CV 1/3] END randomforest__bootstrap=False, randomforest__min_samples_leaf=1, voting__arvore__criterion=entropy, voting__arvore__max_depth=20, voting__knn__n_neighbors=5;, score=(train=0.848, test=0.807) total time=   4.9s\n",
            "[CV 2/3] END randomforest__bootstrap=False, randomforest__min_samples_leaf=1, voting__arvore__criterion=entropy, voting__arvore__max_depth=20, voting__knn__n_neighbors=5;, score=(train=0.860, test=0.794) total time=   4.9s\n",
            "[CV 3/3] END randomforest__bootstrap=False, randomforest__min_samples_leaf=1, voting__arvore__criterion=entropy, voting__arvore__max_depth=20, voting__knn__n_neighbors=5;, score=(train=0.841, test=0.787) total time=   4.7s\n",
            "[CV 1/3] END randomforest__bootstrap=False, randomforest__min_samples_leaf=1, voting__arvore__criterion=entropy, voting__arvore__max_depth=50, voting__knn__n_neighbors=1;, score=(train=0.856, test=0.807) total time=   4.9s\n",
            "[CV 2/3] END randomforest__bootstrap=False, randomforest__min_samples_leaf=1, voting__arvore__criterion=entropy, voting__arvore__max_depth=50, voting__knn__n_neighbors=1;, score=(train=0.862, test=0.795) total time=   4.8s\n",
            "[CV 3/3] END randomforest__bootstrap=False, randomforest__min_samples_leaf=1, voting__arvore__criterion=entropy, voting__arvore__max_depth=50, voting__knn__n_neighbors=1;, score=(train=0.845, test=0.788) total time=   4.7s\n",
            "[CV 1/3] END randomforest__bootstrap=False, randomforest__min_samples_leaf=1, voting__arvore__criterion=entropy, voting__arvore__max_depth=50, voting__knn__n_neighbors=3;, score=(train=0.852, test=0.807) total time=   4.7s\n",
            "[CV 2/3] END randomforest__bootstrap=False, randomforest__min_samples_leaf=1, voting__arvore__criterion=entropy, voting__arvore__max_depth=50, voting__knn__n_neighbors=3;, score=(train=0.861, test=0.797) total time=   4.8s\n",
            "[CV 3/3] END randomforest__bootstrap=False, randomforest__min_samples_leaf=1, voting__arvore__criterion=entropy, voting__arvore__max_depth=50, voting__knn__n_neighbors=3;, score=(train=0.840, test=0.786) total time=   4.8s\n",
            "[CV 1/3] END randomforest__bootstrap=False, randomforest__min_samples_leaf=1, voting__arvore__criterion=entropy, voting__arvore__max_depth=50, voting__knn__n_neighbors=5;, score=(train=0.849, test=0.807) total time=   4.9s\n",
            "[CV 2/3] END randomforest__bootstrap=False, randomforest__min_samples_leaf=1, voting__arvore__criterion=entropy, voting__arvore__max_depth=50, voting__knn__n_neighbors=5;, score=(train=0.860, test=0.794) total time=   4.9s\n",
            "[CV 3/3] END randomforest__bootstrap=False, randomforest__min_samples_leaf=1, voting__arvore__criterion=entropy, voting__arvore__max_depth=50, voting__knn__n_neighbors=5;, score=(train=0.841, test=0.788) total time=   4.9s\n",
            "[CV 1/3] END randomforest__bootstrap=False, randomforest__min_samples_leaf=2, voting__arvore__criterion=gini, voting__arvore__max_depth=15, voting__knn__n_neighbors=1;, score=(train=0.863, test=0.804) total time=   4.5s\n",
            "[CV 2/3] END randomforest__bootstrap=False, randomforest__min_samples_leaf=2, voting__arvore__criterion=gini, voting__arvore__max_depth=15, voting__knn__n_neighbors=1;, score=(train=0.867, test=0.793) total time=   4.5s\n",
            "[CV 3/3] END randomforest__bootstrap=False, randomforest__min_samples_leaf=2, voting__arvore__criterion=gini, voting__arvore__max_depth=15, voting__knn__n_neighbors=1;, score=(train=0.863, test=0.788) total time=   4.2s\n",
            "[CV 1/3] END randomforest__bootstrap=False, randomforest__min_samples_leaf=2, voting__arvore__criterion=gini, voting__arvore__max_depth=15, voting__knn__n_neighbors=3;, score=(train=0.858, test=0.804) total time=   4.4s\n",
            "[CV 2/3] END randomforest__bootstrap=False, randomforest__min_samples_leaf=2, voting__arvore__criterion=gini, voting__arvore__max_depth=15, voting__knn__n_neighbors=3;, score=(train=0.868, test=0.796) total time=   4.3s\n",
            "[CV 3/3] END randomforest__bootstrap=False, randomforest__min_samples_leaf=2, voting__arvore__criterion=gini, voting__arvore__max_depth=15, voting__knn__n_neighbors=3;, score=(train=0.858, test=0.790) total time=   4.3s\n",
            "[CV 1/3] END randomforest__bootstrap=False, randomforest__min_samples_leaf=2, voting__arvore__criterion=gini, voting__arvore__max_depth=15, voting__knn__n_neighbors=5;, score=(train=0.855, test=0.802) total time=   4.6s\n",
            "[CV 2/3] END randomforest__bootstrap=False, randomforest__min_samples_leaf=2, voting__arvore__criterion=gini, voting__arvore__max_depth=15, voting__knn__n_neighbors=5;, score=(train=0.867, test=0.792) total time=   4.5s\n",
            "[CV 3/3] END randomforest__bootstrap=False, randomforest__min_samples_leaf=2, voting__arvore__criterion=gini, voting__arvore__max_depth=15, voting__knn__n_neighbors=5;, score=(train=0.853, test=0.791) total time=   4.4s\n",
            "[CV 1/3] END randomforest__bootstrap=False, randomforest__min_samples_leaf=2, voting__arvore__criterion=gini, voting__arvore__max_depth=20, voting__knn__n_neighbors=1;, score=(train=0.864, test=0.804) total time=   4.2s\n",
            "[CV 2/3] END randomforest__bootstrap=False, randomforest__min_samples_leaf=2, voting__arvore__criterion=gini, voting__arvore__max_depth=20, voting__knn__n_neighbors=1;, score=(train=0.870, test=0.794) total time=   4.2s\n",
            "[CV 3/3] END randomforest__bootstrap=False, randomforest__min_samples_leaf=2, voting__arvore__criterion=gini, voting__arvore__max_depth=20, voting__knn__n_neighbors=1;, score=(train=0.866, test=0.788) total time=   4.2s\n",
            "[CV 1/3] END randomforest__bootstrap=False, randomforest__min_samples_leaf=2, voting__arvore__criterion=gini, voting__arvore__max_depth=20, voting__knn__n_neighbors=3;, score=(train=0.855, test=0.809) total time=   4.3s\n",
            "[CV 2/3] END randomforest__bootstrap=False, randomforest__min_samples_leaf=2, voting__arvore__criterion=gini, voting__arvore__max_depth=20, voting__knn__n_neighbors=3;, score=(train=0.868, test=0.793) total time=   4.4s\n",
            "[CV 3/3] END randomforest__bootstrap=False, randomforest__min_samples_leaf=2, voting__arvore__criterion=gini, voting__arvore__max_depth=20, voting__knn__n_neighbors=3;, score=(train=0.861, test=0.789) total time=   4.4s\n",
            "[CV 1/3] END randomforest__bootstrap=False, randomforest__min_samples_leaf=2, voting__arvore__criterion=gini, voting__arvore__max_depth=20, voting__knn__n_neighbors=5;, score=(train=0.858, test=0.803) total time=   4.4s\n",
            "[CV 2/3] END randomforest__bootstrap=False, randomforest__min_samples_leaf=2, voting__arvore__criterion=gini, voting__arvore__max_depth=20, voting__knn__n_neighbors=5;, score=(train=0.867, test=0.792) total time=   4.4s\n",
            "[CV 3/3] END randomforest__bootstrap=False, randomforest__min_samples_leaf=2, voting__arvore__criterion=gini, voting__arvore__max_depth=20, voting__knn__n_neighbors=5;, score=(train=0.855, test=0.789) total time=   4.3s\n",
            "[CV 1/3] END randomforest__bootstrap=False, randomforest__min_samples_leaf=2, voting__arvore__criterion=gini, voting__arvore__max_depth=50, voting__knn__n_neighbors=1;, score=(train=0.866, test=0.805) total time=   4.2s\n",
            "[CV 2/3] END randomforest__bootstrap=False, randomforest__min_samples_leaf=2, voting__arvore__criterion=gini, voting__arvore__max_depth=50, voting__knn__n_neighbors=1;, score=(train=0.866, test=0.792) total time=   4.2s\n",
            "[CV 3/3] END randomforest__bootstrap=False, randomforest__min_samples_leaf=2, voting__arvore__criterion=gini, voting__arvore__max_depth=50, voting__knn__n_neighbors=1;, score=(train=0.861, test=0.788) total time=   4.3s\n",
            "[CV 1/3] END randomforest__bootstrap=False, randomforest__min_samples_leaf=2, voting__arvore__criterion=gini, voting__arvore__max_depth=50, voting__knn__n_neighbors=3;, score=(train=0.854, test=0.808) total time=   4.3s\n",
            "[CV 2/3] END randomforest__bootstrap=False, randomforest__min_samples_leaf=2, voting__arvore__criterion=gini, voting__arvore__max_depth=50, voting__knn__n_neighbors=3;, score=(train=0.868, test=0.795) total time=   4.3s\n",
            "[CV 3/3] END randomforest__bootstrap=False, randomforest__min_samples_leaf=2, voting__arvore__criterion=gini, voting__arvore__max_depth=50, voting__knn__n_neighbors=3;, score=(train=0.861, test=0.789) total time=   4.3s\n",
            "[CV 1/3] END randomforest__bootstrap=False, randomforest__min_samples_leaf=2, voting__arvore__criterion=gini, voting__arvore__max_depth=50, voting__knn__n_neighbors=5;, score=(train=0.857, test=0.810) total time=   4.3s\n",
            "[CV 2/3] END randomforest__bootstrap=False, randomforest__min_samples_leaf=2, voting__arvore__criterion=gini, voting__arvore__max_depth=50, voting__knn__n_neighbors=5;, score=(train=0.867, test=0.794) total time=   4.4s\n",
            "[CV 3/3] END randomforest__bootstrap=False, randomforest__min_samples_leaf=2, voting__arvore__criterion=gini, voting__arvore__max_depth=50, voting__knn__n_neighbors=5;, score=(train=0.859, test=0.790) total time=   4.4s\n",
            "[CV 1/3] END randomforest__bootstrap=False, randomforest__min_samples_leaf=2, voting__arvore__criterion=entropy, voting__arvore__max_depth=15, voting__knn__n_neighbors=1;, score=(train=0.857, test=0.807) total time=   4.2s\n",
            "[CV 2/3] END randomforest__bootstrap=False, randomforest__min_samples_leaf=2, voting__arvore__criterion=entropy, voting__arvore__max_depth=15, voting__knn__n_neighbors=1;, score=(train=0.864, test=0.792) total time=   4.2s\n",
            "[CV 3/3] END randomforest__bootstrap=False, randomforest__min_samples_leaf=2, voting__arvore__criterion=entropy, voting__arvore__max_depth=15, voting__knn__n_neighbors=1;, score=(train=0.860, test=0.787) total time=   4.3s\n",
            "[CV 1/3] END randomforest__bootstrap=False, randomforest__min_samples_leaf=2, voting__arvore__criterion=entropy, voting__arvore__max_depth=15, voting__knn__n_neighbors=3;, score=(train=0.853, test=0.808) total time=   4.4s\n",
            "[CV 2/3] END randomforest__bootstrap=False, randomforest__min_samples_leaf=2, voting__arvore__criterion=entropy, voting__arvore__max_depth=15, voting__knn__n_neighbors=3;, score=(train=0.867, test=0.792) total time=   4.4s\n",
            "[CV 3/3] END randomforest__bootstrap=False, randomforest__min_samples_leaf=2, voting__arvore__criterion=entropy, voting__arvore__max_depth=15, voting__knn__n_neighbors=3;, score=(train=0.856, test=0.790) total time=   4.4s\n",
            "[CV 1/3] END randomforest__bootstrap=False, randomforest__min_samples_leaf=2, voting__arvore__criterion=entropy, voting__arvore__max_depth=15, voting__knn__n_neighbors=5;, score=(train=0.857, test=0.804) total time=   4.5s\n",
            "[CV 2/3] END randomforest__bootstrap=False, randomforest__min_samples_leaf=2, voting__arvore__criterion=entropy, voting__arvore__max_depth=15, voting__knn__n_neighbors=5;, score=(train=0.866, test=0.791) total time=   4.4s\n",
            "[CV 3/3] END randomforest__bootstrap=False, randomforest__min_samples_leaf=2, voting__arvore__criterion=entropy, voting__arvore__max_depth=15, voting__knn__n_neighbors=5;, score=(train=0.856, test=0.789) total time=   4.4s\n",
            "[CV 1/3] END randomforest__bootstrap=False, randomforest__min_samples_leaf=2, voting__arvore__criterion=entropy, voting__arvore__max_depth=20, voting__knn__n_neighbors=1;, score=(train=0.856, test=0.809) total time=   4.3s\n",
            "[CV 2/3] END randomforest__bootstrap=False, randomforest__min_samples_leaf=2, voting__arvore__criterion=entropy, voting__arvore__max_depth=20, voting__knn__n_neighbors=1;, score=(train=0.862, test=0.792) total time=   4.2s\n",
            "[CV 3/3] END randomforest__bootstrap=False, randomforest__min_samples_leaf=2, voting__arvore__criterion=entropy, voting__arvore__max_depth=20, voting__knn__n_neighbors=1;, score=(train=0.863, test=0.786) total time=   4.3s\n",
            "[CV 1/3] END randomforest__bootstrap=False, randomforest__min_samples_leaf=2, voting__arvore__criterion=entropy, voting__arvore__max_depth=20, voting__knn__n_neighbors=3;, score=(train=0.854, test=0.805) total time=   4.4s\n",
            "[CV 2/3] END randomforest__bootstrap=False, randomforest__min_samples_leaf=2, voting__arvore__criterion=entropy, voting__arvore__max_depth=20, voting__knn__n_neighbors=3;, score=(train=0.868, test=0.795) total time=   4.4s\n",
            "[CV 3/3] END randomforest__bootstrap=False, randomforest__min_samples_leaf=2, voting__arvore__criterion=entropy, voting__arvore__max_depth=20, voting__knn__n_neighbors=3;, score=(train=0.859, test=0.789) total time=   4.3s\n",
            "[CV 1/3] END randomforest__bootstrap=False, randomforest__min_samples_leaf=2, voting__arvore__criterion=entropy, voting__arvore__max_depth=20, voting__knn__n_neighbors=5;, score=(train=0.855, test=0.810) total time=   4.4s\n",
            "[CV 2/3] END randomforest__bootstrap=False, randomforest__min_samples_leaf=2, voting__arvore__criterion=entropy, voting__arvore__max_depth=20, voting__knn__n_neighbors=5;, score=(train=0.867, test=0.793) total time=   4.4s\n",
            "[CV 3/3] END randomforest__bootstrap=False, randomforest__min_samples_leaf=2, voting__arvore__criterion=entropy, voting__arvore__max_depth=20, voting__knn__n_neighbors=5;, score=(train=0.857, test=0.789) total time=   4.4s\n",
            "[CV 1/3] END randomforest__bootstrap=False, randomforest__min_samples_leaf=2, voting__arvore__criterion=entropy, voting__arvore__max_depth=50, voting__knn__n_neighbors=1;, score=(train=0.859, test=0.808) total time=   4.3s\n",
            "[CV 2/3] END randomforest__bootstrap=False, randomforest__min_samples_leaf=2, voting__arvore__criterion=entropy, voting__arvore__max_depth=50, voting__knn__n_neighbors=1;, score=(train=0.866, test=0.792) total time=   4.3s\n",
            "[CV 3/3] END randomforest__bootstrap=False, randomforest__min_samples_leaf=2, voting__arvore__criterion=entropy, voting__arvore__max_depth=50, voting__knn__n_neighbors=1;, score=(train=0.866, test=0.787) total time=   4.3s\n",
            "[CV 1/3] END randomforest__bootstrap=False, randomforest__min_samples_leaf=2, voting__arvore__criterion=entropy, voting__arvore__max_depth=50, voting__knn__n_neighbors=3;, score=(train=0.853, test=0.809) total time=   4.4s\n",
            "[CV 2/3] END randomforest__bootstrap=False, randomforest__min_samples_leaf=2, voting__arvore__criterion=entropy, voting__arvore__max_depth=50, voting__knn__n_neighbors=3;, score=(train=0.868, test=0.793) total time=   4.3s\n",
            "[CV 3/3] END randomforest__bootstrap=False, randomforest__min_samples_leaf=2, voting__arvore__criterion=entropy, voting__arvore__max_depth=50, voting__knn__n_neighbors=3;, score=(train=0.859, test=0.789) total time=   4.4s\n",
            "[CV 1/3] END randomforest__bootstrap=False, randomforest__min_samples_leaf=2, voting__arvore__criterion=entropy, voting__arvore__max_depth=50, voting__knn__n_neighbors=5;, score=(train=0.854, test=0.809) total time=   4.4s\n",
            "[CV 2/3] END randomforest__bootstrap=False, randomforest__min_samples_leaf=2, voting__arvore__criterion=entropy, voting__arvore__max_depth=50, voting__knn__n_neighbors=5;, score=(train=0.866, test=0.792) total time=   4.4s\n",
            "[CV 3/3] END randomforest__bootstrap=False, randomforest__min_samples_leaf=2, voting__arvore__criterion=entropy, voting__arvore__max_depth=50, voting__knn__n_neighbors=5;, score=(train=0.858, test=0.789) total time=   4.4s\n",
            "[CV 1/3] END randomforest__bootstrap=False, randomforest__min_samples_leaf=3, voting__arvore__criterion=gini, voting__arvore__max_depth=15, voting__knn__n_neighbors=1;, score=(train=0.858, test=0.803) total time=   4.1s\n",
            "[CV 2/3] END randomforest__bootstrap=False, randomforest__min_samples_leaf=3, voting__arvore__criterion=gini, voting__arvore__max_depth=15, voting__knn__n_neighbors=1;, score=(train=0.856, test=0.795) total time=   4.1s\n",
            "[CV 3/3] END randomforest__bootstrap=False, randomforest__min_samples_leaf=3, voting__arvore__criterion=gini, voting__arvore__max_depth=15, voting__knn__n_neighbors=1;, score=(train=0.862, test=0.786) total time=   4.1s\n",
            "[CV 1/3] END randomforest__bootstrap=False, randomforest__min_samples_leaf=3, voting__arvore__criterion=gini, voting__arvore__max_depth=15, voting__knn__n_neighbors=3;, score=(train=0.854, test=0.807) total time=   4.2s\n",
            "[CV 2/3] END randomforest__bootstrap=False, randomforest__min_samples_leaf=3, voting__arvore__criterion=gini, voting__arvore__max_depth=15, voting__knn__n_neighbors=3;, score=(train=0.855, test=0.795) total time=   4.2s\n",
            "[CV 3/3] END randomforest__bootstrap=False, randomforest__min_samples_leaf=3, voting__arvore__criterion=gini, voting__arvore__max_depth=15, voting__knn__n_neighbors=3;, score=(train=0.853, test=0.789) total time=   4.2s\n",
            "[CV 1/3] END randomforest__bootstrap=False, randomforest__min_samples_leaf=3, voting__arvore__criterion=gini, voting__arvore__max_depth=15, voting__knn__n_neighbors=5;, score=(train=0.855, test=0.804) total time=   4.2s\n",
            "[CV 2/3] END randomforest__bootstrap=False, randomforest__min_samples_leaf=3, voting__arvore__criterion=gini, voting__arvore__max_depth=15, voting__knn__n_neighbors=5;, score=(train=0.855, test=0.792) total time=   4.2s\n",
            "[CV 3/3] END randomforest__bootstrap=False, randomforest__min_samples_leaf=3, voting__arvore__criterion=gini, voting__arvore__max_depth=15, voting__knn__n_neighbors=5;, score=(train=0.848, test=0.790) total time=   4.3s\n",
            "[CV 1/3] END randomforest__bootstrap=False, randomforest__min_samples_leaf=3, voting__arvore__criterion=gini, voting__arvore__max_depth=20, voting__knn__n_neighbors=1;, score=(train=0.863, test=0.804) total time=   4.1s\n",
            "[CV 2/3] END randomforest__bootstrap=False, randomforest__min_samples_leaf=3, voting__arvore__criterion=gini, voting__arvore__max_depth=20, voting__knn__n_neighbors=1;, score=(train=0.856, test=0.794) total time=   4.1s\n",
            "[CV 3/3] END randomforest__bootstrap=False, randomforest__min_samples_leaf=3, voting__arvore__criterion=gini, voting__arvore__max_depth=20, voting__knn__n_neighbors=1;, score=(train=0.864, test=0.788) total time=   4.1s\n",
            "[CV 1/3] END randomforest__bootstrap=False, randomforest__min_samples_leaf=3, voting__arvore__criterion=gini, voting__arvore__max_depth=20, voting__knn__n_neighbors=3;, score=(train=0.853, test=0.811) total time=   4.2s\n",
            "[CV 2/3] END randomforest__bootstrap=False, randomforest__min_samples_leaf=3, voting__arvore__criterion=gini, voting__arvore__max_depth=20, voting__knn__n_neighbors=3;, score=(train=0.857, test=0.797) total time=   4.2s\n",
            "[CV 3/3] END randomforest__bootstrap=False, randomforest__min_samples_leaf=3, voting__arvore__criterion=gini, voting__arvore__max_depth=20, voting__knn__n_neighbors=3;, score=(train=0.853, test=0.789) total time=   4.2s\n",
            "[CV 1/3] END randomforest__bootstrap=False, randomforest__min_samples_leaf=3, voting__arvore__criterion=gini, voting__arvore__max_depth=20, voting__knn__n_neighbors=5;, score=(train=0.855, test=0.809) total time=   4.3s\n",
            "[CV 2/3] END randomforest__bootstrap=False, randomforest__min_samples_leaf=3, voting__arvore__criterion=gini, voting__arvore__max_depth=20, voting__knn__n_neighbors=5;, score=(train=0.855, test=0.795) total time=   4.3s\n",
            "[CV 3/3] END randomforest__bootstrap=False, randomforest__min_samples_leaf=3, voting__arvore__criterion=gini, voting__arvore__max_depth=20, voting__knn__n_neighbors=5;, score=(train=0.850, test=0.790) total time=   4.3s\n",
            "[CV 1/3] END randomforest__bootstrap=False, randomforest__min_samples_leaf=3, voting__arvore__criterion=gini, voting__arvore__max_depth=50, voting__knn__n_neighbors=1;, score=(train=0.860, test=0.805) total time=   4.2s\n",
            "[CV 2/3] END randomforest__bootstrap=False, randomforest__min_samples_leaf=3, voting__arvore__criterion=gini, voting__arvore__max_depth=50, voting__knn__n_neighbors=1;, score=(train=0.861, test=0.795) total time=   4.2s\n",
            "[CV 3/3] END randomforest__bootstrap=False, randomforest__min_samples_leaf=3, voting__arvore__criterion=gini, voting__arvore__max_depth=50, voting__knn__n_neighbors=1;, score=(train=0.865, test=0.788) total time=   4.2s\n",
            "[CV 1/3] END randomforest__bootstrap=False, randomforest__min_samples_leaf=3, voting__arvore__criterion=gini, voting__arvore__max_depth=50, voting__knn__n_neighbors=3;, score=(train=0.852, test=0.811) total time=   4.3s\n",
            "[CV 2/3] END randomforest__bootstrap=False, randomforest__min_samples_leaf=3, voting__arvore__criterion=gini, voting__arvore__max_depth=50, voting__knn__n_neighbors=3;, score=(train=0.857, test=0.797) total time=   4.2s\n",
            "[CV 3/3] END randomforest__bootstrap=False, randomforest__min_samples_leaf=3, voting__arvore__criterion=gini, voting__arvore__max_depth=50, voting__knn__n_neighbors=3;, score=(train=0.860, test=0.788) total time=   4.2s\n",
            "[CV 1/3] END randomforest__bootstrap=False, randomforest__min_samples_leaf=3, voting__arvore__criterion=gini, voting__arvore__max_depth=50, voting__knn__n_neighbors=5;, score=(train=0.855, test=0.805) total time=   4.3s\n",
            "[CV 2/3] END randomforest__bootstrap=False, randomforest__min_samples_leaf=3, voting__arvore__criterion=gini, voting__arvore__max_depth=50, voting__knn__n_neighbors=5;, score=(train=0.855, test=0.792) total time=   4.3s\n",
            "[CV 3/3] END randomforest__bootstrap=False, randomforest__min_samples_leaf=3, voting__arvore__criterion=gini, voting__arvore__max_depth=50, voting__knn__n_neighbors=5;, score=(train=0.851, test=0.789) total time=   4.3s\n",
            "[CV 1/3] END randomforest__bootstrap=False, randomforest__min_samples_leaf=3, voting__arvore__criterion=entropy, voting__arvore__max_depth=15, voting__knn__n_neighbors=1;, score=(train=0.856, test=0.805) total time=   4.2s\n",
            "[CV 2/3] END randomforest__bootstrap=False, randomforest__min_samples_leaf=3, voting__arvore__criterion=entropy, voting__arvore__max_depth=15, voting__knn__n_neighbors=1;, score=(train=0.851, test=0.792) total time=   4.2s\n",
            "[CV 3/3] END randomforest__bootstrap=False, randomforest__min_samples_leaf=3, voting__arvore__criterion=entropy, voting__arvore__max_depth=15, voting__knn__n_neighbors=1;, score=(train=0.859, test=0.785) total time=   4.2s\n",
            "[CV 1/3] END randomforest__bootstrap=False, randomforest__min_samples_leaf=3, voting__arvore__criterion=entropy, voting__arvore__max_depth=15, voting__knn__n_neighbors=3;, score=(train=0.851, test=0.809) total time=   4.3s\n",
            "[CV 2/3] END randomforest__bootstrap=False, randomforest__min_samples_leaf=3, voting__arvore__criterion=entropy, voting__arvore__max_depth=15, voting__knn__n_neighbors=3;, score=(train=0.853, test=0.794) total time=   4.3s\n",
            "[CV 3/3] END randomforest__bootstrap=False, randomforest__min_samples_leaf=3, voting__arvore__criterion=entropy, voting__arvore__max_depth=15, voting__knn__n_neighbors=3;, score=(train=0.852, test=0.788) total time=   4.3s\n",
            "[CV 1/3] END randomforest__bootstrap=False, randomforest__min_samples_leaf=3, voting__arvore__criterion=entropy, voting__arvore__max_depth=15, voting__knn__n_neighbors=5;, score=(train=0.852, test=0.810) total time=   4.3s\n",
            "[CV 2/3] END randomforest__bootstrap=False, randomforest__min_samples_leaf=3, voting__arvore__criterion=entropy, voting__arvore__max_depth=15, voting__knn__n_neighbors=5;, score=(train=0.854, test=0.794) total time=   4.3s\n",
            "[CV 3/3] END randomforest__bootstrap=False, randomforest__min_samples_leaf=3, voting__arvore__criterion=entropy, voting__arvore__max_depth=15, voting__knn__n_neighbors=5;, score=(train=0.850, test=0.789) total time=   4.3s\n",
            "[CV 1/3] END randomforest__bootstrap=False, randomforest__min_samples_leaf=3, voting__arvore__criterion=entropy, voting__arvore__max_depth=20, voting__knn__n_neighbors=1;, score=(train=0.855, test=0.809) total time=   4.2s\n",
            "[CV 2/3] END randomforest__bootstrap=False, randomforest__min_samples_leaf=3, voting__arvore__criterion=entropy, voting__arvore__max_depth=20, voting__knn__n_neighbors=1;, score=(train=0.852, test=0.793) total time=   4.1s\n",
            "[CV 3/3] END randomforest__bootstrap=False, randomforest__min_samples_leaf=3, voting__arvore__criterion=entropy, voting__arvore__max_depth=20, voting__knn__n_neighbors=1;, score=(train=0.865, test=0.787) total time=   4.2s\n",
            "[CV 1/3] END randomforest__bootstrap=False, randomforest__min_samples_leaf=3, voting__arvore__criterion=entropy, voting__arvore__max_depth=20, voting__knn__n_neighbors=3;, score=(train=0.848, test=0.808) total time=   4.3s\n",
            "[CV 2/3] END randomforest__bootstrap=False, randomforest__min_samples_leaf=3, voting__arvore__criterion=entropy, voting__arvore__max_depth=20, voting__knn__n_neighbors=3;, score=(train=0.856, test=0.794) total time=   4.2s\n",
            "[CV 3/3] END randomforest__bootstrap=False, randomforest__min_samples_leaf=3, voting__arvore__criterion=entropy, voting__arvore__max_depth=20, voting__knn__n_neighbors=3;, score=(train=0.854, test=0.790) total time=   4.3s\n",
            "[CV 1/3] END randomforest__bootstrap=False, randomforest__min_samples_leaf=3, voting__arvore__criterion=entropy, voting__arvore__max_depth=20, voting__knn__n_neighbors=5;, score=(train=0.852, test=0.810) total time=   4.3s\n",
            "[CV 2/3] END randomforest__bootstrap=False, randomforest__min_samples_leaf=3, voting__arvore__criterion=entropy, voting__arvore__max_depth=20, voting__knn__n_neighbors=5;, score=(train=0.855, test=0.795) total time=   4.3s\n",
            "[CV 3/3] END randomforest__bootstrap=False, randomforest__min_samples_leaf=3, voting__arvore__criterion=entropy, voting__arvore__max_depth=20, voting__knn__n_neighbors=5;, score=(train=0.857, test=0.789) total time=   4.3s\n",
            "[CV 1/3] END randomforest__bootstrap=False, randomforest__min_samples_leaf=3, voting__arvore__criterion=entropy, voting__arvore__max_depth=50, voting__knn__n_neighbors=1;, score=(train=0.857, test=0.809) total time=   4.2s\n",
            "[CV 2/3] END randomforest__bootstrap=False, randomforest__min_samples_leaf=3, voting__arvore__criterion=entropy, voting__arvore__max_depth=50, voting__knn__n_neighbors=1;, score=(train=0.850, test=0.792) total time=   4.2s\n",
            "[CV 3/3] END randomforest__bootstrap=False, randomforest__min_samples_leaf=3, voting__arvore__criterion=entropy, voting__arvore__max_depth=50, voting__knn__n_neighbors=1;, score=(train=0.861, test=0.786) total time=   4.2s\n",
            "[CV 1/3] END randomforest__bootstrap=False, randomforest__min_samples_leaf=3, voting__arvore__criterion=entropy, voting__arvore__max_depth=50, voting__knn__n_neighbors=3;, score=(train=0.848, test=0.808) total time=   4.3s\n",
            "[CV 2/3] END randomforest__bootstrap=False, randomforest__min_samples_leaf=3, voting__arvore__criterion=entropy, voting__arvore__max_depth=50, voting__knn__n_neighbors=3;, score=(train=0.857, test=0.794) total time=   4.2s\n",
            "[CV 3/3] END randomforest__bootstrap=False, randomforest__min_samples_leaf=3, voting__arvore__criterion=entropy, voting__arvore__max_depth=50, voting__knn__n_neighbors=3;, score=(train=0.853, test=0.790) total time=   4.3s\n",
            "[CV 1/3] END randomforest__bootstrap=False, randomforest__min_samples_leaf=3, voting__arvore__criterion=entropy, voting__arvore__max_depth=50, voting__knn__n_neighbors=5;, score=(train=0.852, test=0.810) total time=   4.3s\n",
            "[CV 2/3] END randomforest__bootstrap=False, randomforest__min_samples_leaf=3, voting__arvore__criterion=entropy, voting__arvore__max_depth=50, voting__knn__n_neighbors=5;, score=(train=0.855, test=0.795) total time=   4.3s\n",
            "[CV 3/3] END randomforest__bootstrap=False, randomforest__min_samples_leaf=3, voting__arvore__criterion=entropy, voting__arvore__max_depth=50, voting__knn__n_neighbors=5;, score=(train=0.853, test=0.789) total time=   4.3s\n"
          ]
        },
        {
          "output_type": "execute_result",
          "data": {
            "text/plain": [
              "0.8064363464268812"
            ]
          },
          "metadata": {},
          "execution_count": 194
        }
      ]
    },
    {
      "cell_type": "code",
      "metadata": {
        "colab": {
          "base_uri": "https://localhost:8080/"
        },
        "id": "QGlOkLGx_PAh",
        "outputId": "7da965a2-4d43-4bb8-d25c-dc17c2478072"
      },
      "source": [
        "grid_search_model.best_estimator_"
      ],
      "execution_count": 195,
      "outputs": [
        {
          "output_type": "execute_result",
          "data": {
            "text/plain": [
              "StackingClassifier(estimators=[('voting',\n",
              "                                VotingClassifier(estimators=[('knn',\n",
              "                                                              KNeighborsClassifier(n_neighbors=3)),\n",
              "                                                             ('arvore',\n",
              "                                                              DecisionTreeClassifier(max_depth=20)),\n",
              "                                                             ('perceptron',\n",
              "                                                              Perceptron())])),\n",
              "                               ('xgbclassifier',\n",
              "                                XGBClassifier(random_state=42,\n",
              "                                              use_label_encoder=False)),\n",
              "                               ('randomforest',\n",
              "                                RandomForestClassifier(bootstrap=False,\n",
              "                                                       min_samples_leaf=3,\n",
              "                                                       random_state=42))])"
            ]
          },
          "metadata": {},
          "execution_count": 195
        }
      ]
    },
    {
      "cell_type": "code",
      "metadata": {
        "colab": {
          "base_uri": "https://localhost:8080/"
        },
        "id": "4CGsVb0H81PB",
        "outputId": "922e8326-e33e-4dc6-aad0-712f382a588f"
      },
      "source": [
        "model.fit(X_tr,y_tr)\n",
        "stk_pred = model.predict(X_te)\n",
        "score = sum(stk_pred == y_te)/len(y_te)\n",
        "score"
      ],
      "execution_count": 196,
      "outputs": [
        {
          "output_type": "execute_result",
          "data": {
            "text/plain": [
              "0.8035967818267865"
            ]
          },
          "metadata": {},
          "execution_count": 196
        }
      ]
    },
    {
      "cell_type": "code",
      "metadata": {
        "colab": {
          "base_uri": "https://localhost:8080/"
        },
        "id": "vNPHYGkw5CJE",
        "outputId": "37dfca0a-2711-4d27-fa41-e8963c4a32b2"
      },
      "source": [
        "from sklearn.metrics import confusion_matrix\n",
        "confusion_matrix(stk_pred, y_te)"
      ],
      "execution_count": 197,
      "outputs": [
        {
          "output_type": "execute_result",
          "data": {
            "text/plain": [
              "array([[1400,  276],\n",
              "       [ 139,  298]])"
            ]
          },
          "metadata": {},
          "execution_count": 197
        }
      ]
    },
    {
      "cell_type": "code",
      "metadata": {
        "colab": {
          "base_uri": "https://localhost:8080/",
          "height": 334
        },
        "id": "H1XDCAZY5Cja",
        "outputId": "41f1e997-5522-4e75-8f75-17c33c229dca"
      },
      "source": [
        "from sklearn import metrics\n",
        "import matplotlib.pyplot as plt\n",
        "import numpy as np\n",
        "\n",
        "fig, ax = plt.subplots()\n",
        "x = np.linspace(*ax.get_xlim())\n",
        "ax.plot(x, x, color='green', linestyle='dashed',\n",
        "     linewidth=1, markersize=1)\n",
        "metrics.plot_roc_curve(grid_search_model, X_te, y_te, ax=ax) \n",
        "plt.show()"
      ],
      "execution_count": 198,
      "outputs": [
        {
          "output_type": "stream",
          "name": "stderr",
          "text": [
            "/usr/local/lib/python3.7/dist-packages/sklearn/utils/deprecation.py:87: FutureWarning: Function plot_roc_curve is deprecated; Function `plot_roc_curve` is deprecated in 1.0 and will be removed in 1.2. Use one of the class methods: RocCurveDisplay.from_predictions or RocCurveDisplay.from_estimator.\n",
            "  warnings.warn(msg, category=FutureWarning)\n"
          ]
        },
        {
          "output_type": "display_data",
          "data": {
            "image/png": "[encoded data removed]",
            "text/plain": [
              "<Figure size 432x288 with 1 Axes>"
            ]
          },
          "metadata": {
            "needs_background": "light"
          }
        }
      ]
    },
    {
      "cell_type": "code",
      "metadata": {
        "id": "_i0O0Tk05r7A"
      },
      "source": [
        ""
      ],
      "execution_count": null,
      "outputs": []
    }
  ]
}