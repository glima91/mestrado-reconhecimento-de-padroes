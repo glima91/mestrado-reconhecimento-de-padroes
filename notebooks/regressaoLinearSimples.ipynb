{
 "cells": [
  {
   "cell_type": "code",
   "execution_count": 28,
   "metadata": {},
   "outputs": [],
   "source": [
    "import numpy as np\n",
    "import matplotlib.pyplot as plt\n",
    "from sklearn.metrics import mean_squared_error"
   ]
  },
  {
   "cell_type": "code",
   "execution_count": 39,
   "metadata": {},
   "outputs": [],
   "source": [
    "class regressao_linear():\n",
    "    def __init__(self):\n",
    "        self.w = np.zeros((2,1))\n",
    "\n",
    "    @staticmethod\n",
    "    def addBias(X):\n",
    "        bias = np.ones((X.shape[0],1))\n",
    "        X_b = np.concatenate((bias,X), axis=1)\n",
    "        return X_b\n",
    "    def fit(self, X, y, epochs= 100, lr=0.1):\n",
    "        X_b = self.addBias(X)\n",
    "\n",
    "        for _ in range(epochs):\n",
    "            y_pred= self.predict(X)\n",
    "            erro = y_pred - y.reshape(-1,1)\n",
    "            ajuste = X_b.T.dot(erro)/ sum(X_b).reshape(-1,1)\n",
    "            self.w = self.w - lr * ajuste\n",
    "\n",
    "    \n",
    "\n",
    "        pass\n",
    "    def predict(self, X):\n",
    "        X_b = self.addBias(X)\n",
    "        return X_b.dot(self.w)"
   ]
  },
  {
   "cell_type": "code",
   "execution_count": 40,
   "metadata": {},
   "outputs": [],
   "source": [
    "X = np.array([1,2,3,4]).reshape(-1,1)\n",
    "y = np.array([4,5,6,11]).reshape(-1,1)\n",
    "\n",
    "modelo = regressao_linear()\n",
    "modelo.fit(X,y, epochs= 500, lr=0.1)\n",
    "y_pred = modelo.predict(X)\n",
    "mse = mean_squared_error(y, y_pred)"
   ]
  },
  {
   "cell_type": "code",
   "execution_count": 41,
   "metadata": {},
   "outputs": [
    {
     "data": {
      "image/png": "[encoded data removed]",
      "text/plain": [
       "<Figure size 432x288 with 1 Axes>"
      ]
     },
     "metadata": {
      "needs_background": "light"
     },
     "output_type": "display_data"
    }
   ],
   "source": [
    "plt.scatter(X, y)\n",
    "plt.plot(X,y_pred,'r')\n",
    "plt.xlabel(\"Eixo X\")\n",
    "plt.ylabel(\"Eixo y\")\n",
    "plt.show()"
   ]
  },
  {
   "cell_type": "code",
   "execution_count": null,
   "metadata": {},
   "outputs": [],
   "source": [
    "    "
   ]
  }
 ],
 "metadata": {
  "interpreter": {
   "hash": "916dbcbb3f70747c44a77c7bcd40155683ae19c65e1c03b4aa3499c5328201f1"
  },
  "kernelspec": {
   "display_name": "Python 3.8.10 64-bit",
   "name": "python3"
  },
  "language_info": {
   "codemirror_mode": {
    "name": "ipython",
    "version": 3
   },
   "file_extension": ".py",
   "mimetype": "text/x-python",
   "name": "python",
   "nbconvert_exporter": "python",
   "pygments_lexer": "ipython3",
   "version": "3.8.10"
  },
  "orig_nbformat": 4
 },
 "nbformat": 4,
 "nbformat_minor": 2
}
