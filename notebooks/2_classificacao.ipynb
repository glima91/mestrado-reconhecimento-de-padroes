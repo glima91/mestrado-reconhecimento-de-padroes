{
 "cells": [
  {
   "cell_type": "markdown",
   "source": [
    "# Atividade: Classificação"
   ],
   "metadata": {}
  },
  {
   "cell_type": "markdown",
   "source": [
    "Enunciado:\n",
    "\n",
    "Em um jupyter notebook:\n",
    "\n",
    "1- Carregue uma base de dados de classificação (binária ou multiclasse, mas não multirrótulo) que NÃO esteja nos toy datasets do scikit-learn;\n",
    "\n",
    "2- Treine um modelo da classe LogisticRegression do scikit-learn com toda a base;\n",
    "\n",
    "3- Calcule o MSE (erro quadrático médio) para todos os exemplos da usada como treino no modelo treinado;\n",
    "\n",
    "4- Plote 3 gráficos (2D) o MSE em função do atributo intercept_ da classe LogisticRegression. Mantenha os valores do atributo coef_ fixos e varie o valor de intercept_ entre intercept_ - delta e intercept_ + delta.\n",
    "        \n",
    "        Diferentemente da tarefa de regressão, o gráfico do erro da classificação, muito provavelmente, não terá a aparência \"bem comportada\" que o gráfico do erro da regressão teve. Por isso, você precisará encontrar 3 deltas (um para cada gráfico). Cada delta provavelmente apresentará uma impressão diferente do comportamento da função de erro.\n",
    "        O atributo intercept_ da classe LogisticRegression é um array que guarda o valor de interceptação de cada classe do problema da base de dados. Portanto, será necessário fazer 3 gráficos para cada valor do intercept_. Exemplo: problema com 3 classes, 9 gráficos.\n",
    "\n",
    "Suba seu jupyter notebook para o GitHub e disponibilize o link da tarefa (não do repositório)."
   ],
   "metadata": {}
  },
  {
   "cell_type": "markdown",
   "source": [
    "## Base de Dados\n",
    "\n",
    "### Dataset for classification of bank notes\n",
    "\n",
    "The Banknote Dataset involves predicting whether a given banknote is authentic given a number of measures taken from a photograph.\n",
    "\n",
    "It is a binary (2-class) classification problem. The number of observations for each class is not balanced. There are 1,372 observations with 4 input variables and 1 output variable. The variable names are as follows:\n",
    "\n",
    "    c1: Variance of Wavelet Transformed image (continuous).\n",
    "    c2: Skewness of Wavelet Transformed image (continuous).\n",
    "    c3: Kurtosis of Wavelet Transformed image (continuous).\n",
    "    c4: Entropy of image (continuous).\n",
    "    category: Class (0 for authentic, 1 for inauthentic).\n",
    "\n",
    "The baseline performance of predicting the most prevalent class is a classification accuracy of approximately 50%.\n",
    "\n",
    "https://archive.ics.uci.edu/ml/datasets/banknote+authentication"
   ],
   "metadata": {}
  },
  {
   "cell_type": "markdown",
   "source": [
    "## Leitura dos Dados"
   ],
   "metadata": {}
  },
  {
   "cell_type": "code",
   "execution_count": 86,
   "source": [
    "import pandas as pd\r\n",
    "import numpy as np\r\n",
    "import matplotlib.pyplot as plt\r\n",
    "%matplotlib inline"
   ],
   "outputs": [],
   "metadata": {}
  },
  {
   "cell_type": "code",
   "execution_count": 87,
   "source": [
    "# Leitura do arquivo csv\r\n",
    "df = pd.read_csv(\"../datasets/data_banknote_authentication.csv\")\r\n",
    "df.head()"
   ],
   "outputs": [
    {
     "output_type": "execute_result",
     "data": {
      "text/html": [
       "<div>\n",
       "<style scoped>\n",
       "    .dataframe tbody tr th:only-of-type {\n",
       "        vertical-align: middle;\n",
       "    }\n",
       "\n",
       "    .dataframe tbody tr th {\n",
       "        vertical-align: top;\n",
       "    }\n",
       "\n",
       "    .dataframe thead th {\n",
       "        text-align: right;\n",
       "    }\n",
       "</style>\n",
       "<table border=\"1\" class=\"dataframe\">\n",
       "  <thead>\n",
       "    <tr style=\"text-align: right;\">\n",
       "      <th></th>\n",
       "      <th>c1</th>\n",
       "      <th>c2</th>\n",
       "      <th>c3</th>\n",
       "      <th>c4</th>\n",
       "      <th>category</th>\n",
       "    </tr>\n",
       "  </thead>\n",
       "  <tbody>\n",
       "    <tr>\n",
       "      <th>0</th>\n",
       "      <td>3.62160</td>\n",
       "      <td>8.6661</td>\n",
       "      <td>-2.8073</td>\n",
       "      <td>-0.44699</td>\n",
       "      <td>0</td>\n",
       "    </tr>\n",
       "    <tr>\n",
       "      <th>1</th>\n",
       "      <td>4.54590</td>\n",
       "      <td>8.1674</td>\n",
       "      <td>-2.4586</td>\n",
       "      <td>-1.46210</td>\n",
       "      <td>0</td>\n",
       "    </tr>\n",
       "    <tr>\n",
       "      <th>2</th>\n",
       "      <td>3.86600</td>\n",
       "      <td>-2.6383</td>\n",
       "      <td>1.9242</td>\n",
       "      <td>0.10645</td>\n",
       "      <td>0</td>\n",
       "    </tr>\n",
       "    <tr>\n",
       "      <th>3</th>\n",
       "      <td>3.45660</td>\n",
       "      <td>9.5228</td>\n",
       "      <td>-4.0112</td>\n",
       "      <td>-3.59440</td>\n",
       "      <td>0</td>\n",
       "    </tr>\n",
       "    <tr>\n",
       "      <th>4</th>\n",
       "      <td>0.32924</td>\n",
       "      <td>-4.4552</td>\n",
       "      <td>4.5718</td>\n",
       "      <td>-0.98880</td>\n",
       "      <td>0</td>\n",
       "    </tr>\n",
       "  </tbody>\n",
       "</table>\n",
       "</div>"
      ],
      "text/plain": [
       "        c1      c2      c3       c4  category\n",
       "0  3.62160  8.6661 -2.8073 -0.44699         0\n",
       "1  4.54590  8.1674 -2.4586 -1.46210         0\n",
       "2  3.86600 -2.6383  1.9242  0.10645         0\n",
       "3  3.45660  9.5228 -4.0112 -3.59440         0\n",
       "4  0.32924 -4.4552  4.5718 -0.98880         0"
      ]
     },
     "metadata": {},
     "execution_count": 87
    }
   ],
   "metadata": {}
  },
  {
   "cell_type": "markdown",
   "source": [
    "## Análise de valores nulos e estatísticas sobre os dados"
   ],
   "metadata": {}
  },
  {
   "cell_type": "code",
   "execution_count": 88,
   "source": [
    "# Verificação do tipo de dado e se existem valores nulos\r\n",
    "df.info()"
   ],
   "outputs": [
    {
     "output_type": "stream",
     "name": "stdout",
     "text": [
      "<class 'pandas.core.frame.DataFrame'>\n",
      "RangeIndex: 1372 entries, 0 to 1371\n",
      "Data columns (total 5 columns):\n",
      " #   Column    Non-Null Count  Dtype  \n",
      "---  ------    --------------  -----  \n",
      " 0   c1        1372 non-null   float64\n",
      " 1   c2        1372 non-null   float64\n",
      " 2   c3        1372 non-null   float64\n",
      " 3   c4        1372 non-null   float64\n",
      " 4   category  1372 non-null   int64  \n",
      "dtypes: float64(4), int64(1)\n",
      "memory usage: 53.7 KB\n"
     ]
    }
   ],
   "metadata": {}
  },
  {
   "cell_type": "code",
   "execution_count": 89,
   "source": [
    "# Algumas estatísticas sobre a base de dados\r\n",
    "df.describe()"
   ],
   "outputs": [
    {
     "output_type": "execute_result",
     "data": {
      "text/html": [
       "<div>\n",
       "<style scoped>\n",
       "    .dataframe tbody tr th:only-of-type {\n",
       "        vertical-align: middle;\n",
       "    }\n",
       "\n",
       "    .dataframe tbody tr th {\n",
       "        vertical-align: top;\n",
       "    }\n",
       "\n",
       "    .dataframe thead th {\n",
       "        text-align: right;\n",
       "    }\n",
       "</style>\n",
       "<table border=\"1\" class=\"dataframe\">\n",
       "  <thead>\n",
       "    <tr style=\"text-align: right;\">\n",
       "      <th></th>\n",
       "      <th>c1</th>\n",
       "      <th>c2</th>\n",
       "      <th>c3</th>\n",
       "      <th>c4</th>\n",
       "      <th>category</th>\n",
       "    </tr>\n",
       "  </thead>\n",
       "  <tbody>\n",
       "    <tr>\n",
       "      <th>count</th>\n",
       "      <td>1372.000000</td>\n",
       "      <td>1372.000000</td>\n",
       "      <td>1372.000000</td>\n",
       "      <td>1372.000000</td>\n",
       "      <td>1372.000000</td>\n",
       "    </tr>\n",
       "    <tr>\n",
       "      <th>mean</th>\n",
       "      <td>0.433735</td>\n",
       "      <td>1.922353</td>\n",
       "      <td>1.397627</td>\n",
       "      <td>-1.191657</td>\n",
       "      <td>0.444606</td>\n",
       "    </tr>\n",
       "    <tr>\n",
       "      <th>std</th>\n",
       "      <td>2.842763</td>\n",
       "      <td>5.869047</td>\n",
       "      <td>4.310030</td>\n",
       "      <td>2.101013</td>\n",
       "      <td>0.497103</td>\n",
       "    </tr>\n",
       "    <tr>\n",
       "      <th>min</th>\n",
       "      <td>-7.042100</td>\n",
       "      <td>-13.773100</td>\n",
       "      <td>-5.286100</td>\n",
       "      <td>-8.548200</td>\n",
       "      <td>0.000000</td>\n",
       "    </tr>\n",
       "    <tr>\n",
       "      <th>25%</th>\n",
       "      <td>-1.773000</td>\n",
       "      <td>-1.708200</td>\n",
       "      <td>-1.574975</td>\n",
       "      <td>-2.413450</td>\n",
       "      <td>0.000000</td>\n",
       "    </tr>\n",
       "    <tr>\n",
       "      <th>50%</th>\n",
       "      <td>0.496180</td>\n",
       "      <td>2.319650</td>\n",
       "      <td>0.616630</td>\n",
       "      <td>-0.586650</td>\n",
       "      <td>0.000000</td>\n",
       "    </tr>\n",
       "    <tr>\n",
       "      <th>75%</th>\n",
       "      <td>2.821475</td>\n",
       "      <td>6.814625</td>\n",
       "      <td>3.179250</td>\n",
       "      <td>0.394810</td>\n",
       "      <td>1.000000</td>\n",
       "    </tr>\n",
       "    <tr>\n",
       "      <th>max</th>\n",
       "      <td>6.824800</td>\n",
       "      <td>12.951600</td>\n",
       "      <td>17.927400</td>\n",
       "      <td>2.449500</td>\n",
       "      <td>1.000000</td>\n",
       "    </tr>\n",
       "  </tbody>\n",
       "</table>\n",
       "</div>"
      ],
      "text/plain": [
       "                c1           c2           c3           c4     category\n",
       "count  1372.000000  1372.000000  1372.000000  1372.000000  1372.000000\n",
       "mean      0.433735     1.922353     1.397627    -1.191657     0.444606\n",
       "std       2.842763     5.869047     4.310030     2.101013     0.497103\n",
       "min      -7.042100   -13.773100    -5.286100    -8.548200     0.000000\n",
       "25%      -1.773000    -1.708200    -1.574975    -2.413450     0.000000\n",
       "50%       0.496180     2.319650     0.616630    -0.586650     0.000000\n",
       "75%       2.821475     6.814625     3.179250     0.394810     1.000000\n",
       "max       6.824800    12.951600    17.927400     2.449500     1.000000"
      ]
     },
     "metadata": {},
     "execution_count": 89
    }
   ],
   "metadata": {}
  },
  {
   "cell_type": "markdown",
   "source": [
    "## Separação dos conjuntos de treino e teste"
   ],
   "metadata": {}
  },
  {
   "cell_type": "code",
   "execution_count": 90,
   "source": [
    "# Ajusta formato dos dados\r\n",
    "y = df['category']\r\n",
    "X = df.drop(['category'], axis=1)\r\n",
    "\r\n",
    "df.groupby('category').size().reset_index(name='qtd')"
   ],
   "outputs": [
    {
     "output_type": "execute_result",
     "data": {
      "text/html": [
       "<div>\n",
       "<style scoped>\n",
       "    .dataframe tbody tr th:only-of-type {\n",
       "        vertical-align: middle;\n",
       "    }\n",
       "\n",
       "    .dataframe tbody tr th {\n",
       "        vertical-align: top;\n",
       "    }\n",
       "\n",
       "    .dataframe thead th {\n",
       "        text-align: right;\n",
       "    }\n",
       "</style>\n",
       "<table border=\"1\" class=\"dataframe\">\n",
       "  <thead>\n",
       "    <tr style=\"text-align: right;\">\n",
       "      <th></th>\n",
       "      <th>category</th>\n",
       "      <th>qtd</th>\n",
       "    </tr>\n",
       "  </thead>\n",
       "  <tbody>\n",
       "    <tr>\n",
       "      <th>0</th>\n",
       "      <td>0</td>\n",
       "      <td>762</td>\n",
       "    </tr>\n",
       "    <tr>\n",
       "      <th>1</th>\n",
       "      <td>1</td>\n",
       "      <td>610</td>\n",
       "    </tr>\n",
       "  </tbody>\n",
       "</table>\n",
       "</div>"
      ],
      "text/plain": [
       "   category  qtd\n",
       "0         0  762\n",
       "1         1  610"
      ]
     },
     "metadata": {},
     "execution_count": 90
    }
   ],
   "metadata": {}
  },
  {
   "cell_type": "markdown",
   "source": [
    "## Ajusta formato dos dados\n"
   ],
   "metadata": {}
  },
  {
   "cell_type": "code",
   "execution_count": 91,
   "source": [
    "print(f\"Shape dados de X: {X.shape} \\nShape dados de y: {y.shape}\")"
   ],
   "outputs": [
    {
     "output_type": "stream",
     "name": "stdout",
     "text": [
      "Shape dados de X: (1372, 4) \n",
      "Shape dados de y: (1372,)\n"
     ]
    }
   ],
   "metadata": {}
  },
  {
   "cell_type": "markdown",
   "source": [
    "## Utilização de Regressão Logística"
   ],
   "metadata": {}
  },
  {
   "cell_type": "code",
   "execution_count": 92,
   "source": [
    "from sklearn.linear_model import LogisticRegression\r\n",
    "from sklearn.metrics import mean_squared_error, accuracy_score, confusion_matrix, ConfusionMatrixDisplay\r\n",
    "# from sklearn.datasets import load_iris\r\n",
    "\r\n",
    "# X, y = load_iris(return_X_y = True)\r\n",
    "\r\n",
    "class CustomLogisticClassifier():\r\n",
    "    def __init__(self):\r\n",
    "        self.lrmodel = LogisticRegression(solver='lbfgs', max_iter=1000)\r\n",
    "    def fit(self, X, y):\r\n",
    "        self.lrmodel.fit(X,y)\r\n",
    "    def predict(self, X):   \r\n",
    "        y_pred = self.lrmodel.predict(X)\r\n",
    "        return y_pred\r\n",
    "    \r\n",
    "\r\n",
    "# Treina modelo\r\n",
    "model = CustomLogisticClassifier()\r\n",
    "\r\n",
    "# Fit do modelo\r\n",
    "model.fit(X,y)\r\n",
    "\r\n",
    "# Obtém a acurácia\r\n",
    "accuracy = model.lrmodel.score(X, y)\r\n",
    "# Obtém coeficiente da reta\r\n",
    "coef = model.lrmodel.coef_\r\n",
    "# Obtém o intercept (valor onde reta toca no eixo y)\r\n",
    "intercept = model.lrmodel.intercept_\r\n",
    "# Obtém predições\r\n",
    "y_pred = model.predict(X)\r\n",
    "# Calcula o MSE (Mean Squared Error)\r\n",
    "mse = mean_squared_error(y, y_pred) "
   ],
   "outputs": [],
   "metadata": {}
  },
  {
   "cell_type": "code",
   "execution_count": 93,
   "source": [
    "print(\"Resultados:\")\r\n",
    "print(f\"\\\r\n",
    "accuracy: {accuracy} \\n\\\r\n",
    "mse: {mse} \\n\\\r\n",
    "coeficientes: {coef} \\n\\\r\n",
    "intercept: {intercept} \\n\\\r\n",
    "             \")"
   ],
   "outputs": [
    {
     "output_type": "stream",
     "name": "stdout",
     "text": [
      "Resultados:\n",
      "accuracy: 0.9897959183673469 \n",
      "mse: 0.01020408163265306 \n",
      "coeficientes: [[-3.36496558 -1.88765064 -2.30699401 -0.08893876]] \n",
      "intercept: [3.73883455] \n",
      "             \n"
     ]
    }
   ],
   "metadata": {}
  },
  {
   "cell_type": "code",
   "execution_count": 94,
   "source": [
    "set(y_pred)"
   ],
   "outputs": [
    {
     "output_type": "execute_result",
     "data": {
      "text/plain": [
       "{0, 1}"
      ]
     },
     "metadata": {},
     "execution_count": 94
    }
   ],
   "metadata": {}
  },
  {
   "cell_type": "markdown",
   "source": [
    "## Matriz de confusão"
   ],
   "metadata": {}
  },
  {
   "cell_type": "code",
   "execution_count": 95,
   "source": [
    "cm = confusion_matrix(y, y_pred,labels=[0,1])\r\n",
    "disp = ConfusionMatrixDisplay(confusion_matrix=cm, display_labels=[0,1])\r\n",
    "disp.plot()\r\n",
    "plt.show()"
   ],
   "outputs": [
    {
     "output_type": "display_data",
     "data": {
      "image/png": "[encoded data removed]",
      "text/plain": [
       "<Figure size 432x288 with 2 Axes>"
      ]
     },
     "metadata": {
      "needs_background": "light"
     }
    }
   ],
   "metadata": {}
  },
  {
   "cell_type": "markdown",
   "source": [
    "## Plot do MSE em relação ao intercept"
   ],
   "metadata": {}
  },
  {
   "cell_type": "code",
   "execution_count": 96,
   "source": [
    "# Função plota o valor do MSE em relação ao valor do intercept\r\n",
    "def plot_delta_intercept_mse_score(i, delta):\r\n",
    "    list_intercept = []\r\n",
    "    list_mse = []\r\n",
    "\r\n",
    "    intercept_bkp = model.lrmodel.intercept_[i]\r\n",
    "    \r\n",
    "    # Valores a serem somados ou subtraídos ao valor do intercept\r\n",
    "    intercepts = np.linspace(start=intercept_bkp-delta,stop=intercept_bkp+delta,num=101)\r\n",
    "\r\n",
    "    for intercept in intercepts:\r\n",
    "        model.lrmodel.intercept_[i] = intercept\r\n",
    "        y_pred = model.predict(X)\r\n",
    "        mse = mean_squared_error(y, y_pred)\r\n",
    "        list_mse.append(mse)\r\n",
    "\r\n",
    "    model.lrmodel.intercept_[i] = intercept_bkp\r\n",
    "    # Plota gráfico\r\n",
    "    plt.figure(figsize=(10,5))\r\n",
    "    plt.title(\"Valor do MSE ao variar o intercept\")\r\n",
    "    plt.plot(intercepts,list_mse, '-', linewidth=3, markersize=12) # [marker][line][color]\r\n",
    "    plt.xlabel(f\"Valor do Intercept {i} | Delta = {delta}\")\r\n",
    "    plt.ylabel(\"Valor do MSE\")\r\n",
    "    plt.grid(linestyle='--', linewidth=.2)\r\n",
    "    \r\n",
    "    plt.show()\r\n"
   ],
   "outputs": [],
   "metadata": {}
  },
  {
   "cell_type": "code",
   "execution_count": 97,
   "source": [
    "for i in range (len(model.lrmodel.intercept_)):\r\n",
    "    plot_delta_intercept_mse_score(i, delta=10)"
   ],
   "outputs": [
    {
     "output_type": "display_data",
     "data": {
      "image/png": "[encoded data removed]",
      "text/plain": [
       "<Figure size 720x360 with 1 Axes>"
      ]
     },
     "metadata": {
      "needs_background": "light"
     }
    }
   ],
   "metadata": {}
  },
  {
   "cell_type": "code",
   "execution_count": 98,
   "source": [
    "for i in range (len(model.lrmodel.intercept_)):\r\n",
    "    plot_delta_intercept_mse_score(i, delta=5)"
   ],
   "outputs": [
    {
     "output_type": "display_data",
     "data": {
      "image/png": "[encoded data removed]",
      "text/plain": [
       "<Figure size 720x360 with 1 Axes>"
      ]
     },
     "metadata": {
      "needs_background": "light"
     }
    }
   ],
   "metadata": {}
  },
  {
   "cell_type": "code",
   "execution_count": 99,
   "source": [
    "for i in range (len(model.lrmodel.intercept_)):\r\n",
    "    plot_delta_intercept_mse_score(i, delta=2.5)"
   ],
   "outputs": [
    {
     "output_type": "display_data",
     "data": {
      "image/png": "[encoded data removed]",
      "text/plain": [
       "<Figure size 720x360 with 1 Axes>"
      ]
     },
     "metadata": {
      "needs_background": "light"
     }
    }
   ],
   "metadata": {}
  }
 ],
 "metadata": {
  "interpreter": {
   "hash": "67836e580f84b41cfb493505c7eda155927a86be85b02d9b56679cf8ef9a6e59"
  },
  "kernelspec": {
   "name": "python3",
   "display_name": "Python 3.9.7 64-bit"
  },
  "language_info": {
   "codemirror_mode": {
    "name": "ipython",
    "version": 3
   },
   "file_extension": ".py",
   "mimetype": "text/x-python",
   "name": "python",
   "nbconvert_exporter": "python",
   "pygments_lexer": "ipython3",
   "version": "3.9.7"
  }
 },
 "nbformat": 4,
 "nbformat_minor": 5
}